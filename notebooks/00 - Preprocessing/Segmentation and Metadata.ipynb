{
 "cells": [
  {
   "cell_type": "code",
   "execution_count": 1,
   "metadata": {
    "ExecuteTime": {
     "end_time": "2019-10-19T01:07:21.030469Z",
     "start_time": "2019-10-19T01:07:19.745316Z"
    }
   },
   "outputs": [],
   "source": [
    "import warnings  # Hide all warnings here\n",
    "warnings.filterwarnings(\"ignore\")\n",
    "import mne\n",
    "mne.utils.set_log_level('error')\n",
    "import numpy as np\n",
    "import pandas as pd\n",
    "from functools import reduce\n",
    "import local\n",
    "from models.preprocessing import utils\n",
    "from joblib import Parallel,delayed"
   ]
  },
  {
   "cell_type": "code",
   "execution_count": 2,
   "metadata": {
    "ExecuteTime": {
     "end_time": "2019-10-19T01:07:24.682960Z",
     "start_time": "2019-10-19T01:07:24.491901Z"
    }
   },
   "outputs": [
    {
     "data": {
      "application/vnd.jupyter.widget-view+json": {
       "model_id": "68240127f3494dada2f0eab334d46a63",
       "version_major": 2,
       "version_minor": 0
      },
      "text/plain": [
       "HBox(children=(Checkbox(value=True, description='cg\\\\Raw\\\\MulitModal_EEG_058CG', indent=False), Checkbox(value…"
      ]
     },
     "metadata": {},
     "output_type": "display_data"
    }
   ],
   "source": [
    "d = \"../../data/Julia/New_Datasets/RawData_new/\"\n",
    "d = \"../../data/reinhartlab/multimodal/\"\n",
    "ext_in = \".raw.fif.gz\"\n",
    "ext_out = \"-epo.fif.gz\"\n",
    "box = utils.select_dataset(d,ext_in,ext_out,show_all=True); box"
   ]
  },
  {
   "cell_type": "markdown",
   "metadata": {
    "ExecuteTime": {
     "end_time": "2019-07-10T14:48:08.342803Z",
     "start_time": "2019-07-10T14:48:08.323133Z"
    }
   },
   "source": [
    "#### Trial, block & condition declaration\n",
    "\n",
    "The following dicts are example configurations for declarative trial and block segmentation."
   ]
  },
  {
   "cell_type": "code",
   "execution_count": 3,
   "metadata": {
    "ExecuteTime": {
     "end_time": "2019-10-19T01:07:41.773507Z",
     "start_time": "2019-10-19T01:07:41.760875Z"
    }
   },
   "outputs": [],
   "source": [
    "# For probabilistic\n",
    "cond_train = {\n",
    "            'condition': 'train',\n",
    "            'block': { # DONE\n",
    "                'train': {\n",
    "                    'begin':'Stim/100',\n",
    "                    'end':'Stim/101'\n",
    "            }}, \n",
    "            'trial': { # DONE\n",
    "                'begin':'Stim/5',\n",
    "                'end':'Stim/6'\n",
    "            },\n",
    "            'stimulus': { # DONE\n",
    "                'begin':'Stim/12',\n",
    "                'end':'Stim/13',\n",
    "                'types': {\n",
    "                    'main': {'AB':'Stim/14','CD':'Stim/15','EF':'Stim/16'},\n",
    "                    'aux':{'ltr':'Stim/41','rtl':'Stim/42','correct':'Stim/51','incorrect':'Stim/52'}\n",
    "            }},\n",
    "            'response': {\n",
    "                'begin': 'Stim/30',\n",
    "                'types': {\n",
    "                    'main':{'correct':'Stim/34','incorrect':'Stim/31'},\n",
    "                    'aux': {'left':'Stim/37','right':'Stim/38'}\n",
    "            }},\n",
    "            'feedback': {\n",
    "                'begin': 'Stim/20',\n",
    "                'types': {\n",
    "                    'main':{'positive': 'Stim/22','negative':'Stim/23','neutral':'Stim/24'}\n",
    "            }},\n",
    "            'reaction': {\n",
    "                'begin':['Stim/12'],\n",
    "                'end':['Stim/30']\n",
    "            },\n",
    "            'require': ['Stim/14','Stim/15','Stim/16']\n",
    "}\n",
    "cond_test = {\n",
    "        'condition': 'test',\n",
    "            'block': {\n",
    "                'test': {\n",
    "                    'begin':'Stim/102',\n",
    "                    'end':'Stim/103'\n",
    "            }},\n",
    "            'trial': {\n",
    "                'begin':'Stim/17',\n",
    "                'end':'Stim/18'\n",
    "            },\n",
    "            'stimulus': {\n",
    "                'begin':'Stim/12',\n",
    "                'end':'Stim/13',\n",
    "                'types': {\n",
    "                    'main': {'GG':'Stim/81','NG':'Stim/82','NN':'Stim/83'},\n",
    "                    'aux': {'A':'Stim/71','B':'Stim/72','C':'Stim/73','D':'Stim/74','E':'Stim/75','F':'Stim/76'}\n",
    "            }},\n",
    "            'response': {\n",
    "                'begin': 'Stim/30',\n",
    "                'types': {\n",
    "                    'main': {'correct': 'Stim/91','incorrect':'Stim/90'},\n",
    "                    'aux': {'left':'Stim/37','right':'Stim/38'}\n",
    "            }},\n",
    "            'feedback': {\n",
    "                'types': {\n",
    "                    'main': {'positive': 'Stim/91','negative':'Stim/90'}\n",
    "            }},\n",
    "            'reaction': {\n",
    "                'begin':['Stim/12'],\n",
    "                'end':['Stim/30']\n",
    "            },\n",
    "            'require': ['Stim/81','Stim/82','Stim/83']\n",
    "}\n",
    "# For multimodal\n",
    "cond_visual = {\n",
    "            'condition':'visual',\n",
    "            'trial': {\n",
    "                'begin':'Stim/S  9',\n",
    "                'end':'Stim/S 10'\n",
    "            },\n",
    "            'stimulus': {\n",
    "                'begin':'Stim/S 14',\n",
    "                'end':'Stim/S 15',\n",
    "                'types': {\n",
    "                    'main': {\n",
    "                        '0':'Stim/S 20',\n",
    "                        '45':'Stim/S 21',\n",
    "                        '90':'Stim/S 22',\n",
    "                        '135':'Stim/S 23'\n",
    "                }}},\n",
    "            'block': {\n",
    "                'visual/right': {\n",
    "                    'begin':'Stim/S102',\n",
    "                    'end':'Stim/S104'\n",
    "                },\n",
    "                'visual/left': {\n",
    "                    'begin':'Stim/S108',\n",
    "                    'end':'Stim/S110'\n",
    "            }},\n",
    "            'response': {\n",
    "                'types': {\n",
    "                    'main': {\n",
    "                        'R/left':'Stim/S 60','R/down':'Stim/S 61','R/right':'Stim/S 62','R/up':'Stim/S 63',\n",
    "                        'L/left':'Stim/S 64','L/down':'Stim/S 65','L/right':'Stim/S 66','L/up':'Stim/S 67'\n",
    "            }}},\n",
    "            'feedback': {\n",
    "                'types': {\n",
    "                    'main': {\n",
    "                        'positive': 'Stim/S 50','negative':'Stim/S 52','neutral':'Stim/S 54'\n",
    "            }}},\n",
    "            'reaction': {\n",
    "                'begin':['Stim/S 14'],\n",
    "                'end':['Stim/S 60','Stim/S 61','Stim/S 62','Stim/S 63','Stim/S 64','Stim/S 65','Stim/S 66','Stim/S 67']\n",
    "            },\n",
    "            'require': ['Stim/S 20','Stim/S 21','Stim/S 22','Stim/S 23']\n",
    "}\n",
    "cond_auditive = {\n",
    "            'condition':'auditive',\n",
    "            'block': {\n",
    "                'auditive/left': {\n",
    "                    'begin':'Stim/S105',\n",
    "                    'end':'Stim/S107'\n",
    "                },\n",
    "                'auditive/right': {\n",
    "                    'begin':'Stim/S111',\n",
    "                    'end':'Stim/S113'\n",
    "            }},\n",
    "            'trial': {\n",
    "                'begin':'Stim/S  9',\n",
    "                'end':'Stim/S 10'\n",
    "            },\n",
    "            'stimulus': {\n",
    "                'begin':'Stim/S 14',\n",
    "                'end':'Stim/S 15',\n",
    "                'types': {\n",
    "                    'main':{\n",
    "                        '250':'Stim/S 16',\n",
    "                        '500':'Stim/S 17',\n",
    "                        '1000':'Stim/S 18',\n",
    "                        '2000':'Stim/S 19'\n",
    "            }}},\n",
    "            'response': {\n",
    "                'types': {\n",
    "                    'main': {\n",
    "                        'R/left':'Stim/S 60','R/down':'Stim/S 61','R/right':'Stim/S 62','R/up':'Stim/S 63',\n",
    "                        'L/left':'Stim/S 64','L/down':'Stim/S 65','L/right':'Stim/S 66','L/up':'Stim/S 67'\n",
    "            }}},\n",
    "            'feedback': {\n",
    "                'types': {\n",
    "                    'main': {\n",
    "                        'positive': 'Stim/S 50','negative':'Stim/S 52','neutral':'Stim/S 54'\n",
    "            }}},\n",
    "            'reaction': {\n",
    "                'begin':['Stim/S 14'],\n",
    "                'end':['Stim/S 60','Stim/S 61','Stim/S 62','Stim/S 63','Stim/S 64','Stim/S 65','Stim/S 66','Stim/S 67']\n",
    "            },\n",
    "            'require': ['Stim/S 16','Stim/S 17','Stim/S 18','Stim/S 19']\n",
    "}\n",
    "\n",
    "conditions = [cond_visual,cond_auditive]"
   ]
  },
  {
   "cell_type": "markdown",
   "metadata": {
    "ExecuteTime": {
     "end_time": "2019-07-10T14:49:41.885148Z",
     "start_time": "2019-07-10T14:48:11.180300Z"
    }
   },
   "source": [
    "#### Segment data and save results\n",
    "\n",
    "Parse metadata and apply trial segmentation. "
   ]
  },
  {
   "cell_type": "code",
   "execution_count": 4,
   "metadata": {
    "ExecuteTime": {
     "end_time": "2019-10-19T01:10:38.215019Z",
     "start_time": "2019-10-19T01:10:38.202882Z"
    }
   },
   "outputs": [],
   "source": [
    "invert_dict = lambda dct: {v:k for k,v in dct.items()}\n",
    "get_all_types = lambda dct: dict(**dct.get('types',{}).get('main',{}),**dct.get('types',{}).get('aux',{}))\n",
    "get_types_by_trial = lambda events, conf, lock: np.array(['/'.join([invert_dict(get_all_types(conf.get(lock,{}))).get(k) for k in e.keys() if k in get_all_types(conf.get(lock,{})).values()]) for e in events])\n",
    "\n",
    "def find_blocks(x,y):\n",
    "    a = x[2]; b = y; c = x[1]; d=x[0]\n",
    "    if a[0]==b[0]: # block types\n",
    "        if a[1]=='begin': # block position\n",
    "            d.update({a[0]:d.get(a[0],0)+1}) # block number\n",
    "            c = c + [(a[0],d[a[0]],a[2],b[2])] # add block to list\n",
    "        elif b[1]=='end':\n",
    "            d.update({b[0]:d.get(b[0],0)+1})\n",
    "            c = c + [(b[0],d[b[0]],a[2],b[2])]\n",
    "    else:\n",
    "        if a[1]=='begin' and b[1]=='begin':\n",
    "            d.update({a[0]:d.get(a[0],0)+1}) # block number\n",
    "            c = c + [(a[0],d[a[0]],a[2],b[2])] # add block to list\n",
    "        elif a[1]=='end' and b[1]=='end':\n",
    "            d.update({b[0]:d.get(b[0],0)+1})\n",
    "            c = c + [(b[0],d[b[0]],a[2],b[2])]\n",
    "    if b[2]==np.infty:\n",
    "        return c\n",
    "    else:\n",
    "        return (d,c,b)\n",
    "    \n",
    "def get_trial(events,einvs,begin_code,end_code,sample):\n",
    "    begins = events[:sample]\n",
    "    begins = begins[begins[:,2]==begin_code ,:]\n",
    "    begins = begins[-1][0] if len(begins) else np.infty\n",
    "    ends = events[sample:]\n",
    "    ends = ends[ends[:,2]==end_code ,:]\n",
    "    ends = ends[0][0] if len(ends) else 0\n",
    "    events = events[np.logical_and(events[:,0]>=begins,events[:,0]<=ends)]\n",
    "    return {einvs[e[2]]:e[0] for e in events}\n",
    "\n",
    "\n",
    "def get_metadata(raw,cond,lock='stimulus'):\n",
    "    \"\"\"\n",
    "    Use Condition definition to build metadata dataframe from MNE Raw Object.\n",
    "\n",
    "    :param raw: RawType object\n",
    "    :param cond: Condition definition in Dict/Json format (dict)\n",
    "    :returns: Dataframe for use as Metadata object\n",
    "    \"\"\"\n",
    "    evts,eids = mne.events_from_annotations(raw)\n",
    "    einvs = {v:k for k,v in eids.items()}\n",
    "    \n",
    "    locks = cond.get(lock,{}).get('types',{}).get('main',{})\n",
    "    lock_codes = [eids.get(v,-1) for v in locks.values()]\n",
    "    lock_sample = np.array([[e[0],i,e[2]] for i,e in enumerate(evts) if e[2] in lock_codes])\n",
    "    lock_type = np.array([lock for e in lock_sample[:,2]])\n",
    "\n",
    "    block_codes = {eids[w]:(k,l) for k,v in cond.get('block',{}).items() for l,w in v.items() if w in eids.keys()}    \n",
    "    block_events = [[block_codes[e[2]][0],block_codes[e[2]][1],e[0]]for e in evts if e[2] in block_codes.keys()]\n",
    "    blocks = reduce(find_blocks,block_events+[['','begin',np.infty]],({},[],['','end',0]))\n",
    "    \n",
    "    block_idx = [np.logical_and(lock_sample[:,0]<b[3],lock_sample[:,0]>b[2]) for b in blocks]\n",
    "    block_type = reduce(np.char.add,[np.where(i,b[0],'') for i,b in zip(block_idx,blocks)],'')\n",
    "    block_idx = np.sum([i*b[1] for i,b in zip(block_idx,blocks)],axis=0)\n",
    "\n",
    "    events_by_trials = np.array(\n",
    "        [get_trial(evts[z[0]:z[2]],einvs,eids.get(cond.get('trial',{}).get('begin','Stim/-1'),-1),eids.get(cond.get('trial',{}).get('end','Stim/-1'),-1),z[1]-z[0])\n",
    "         for z in \n",
    "         [(0,lock_sample[0,1],lock_sample[1,1])]+[z for z in zip(lock_sample[:-2,1],lock_sample[1:-1,1],lock_sample[2:,1])]+[(lock_sample[-2,1],lock_sample[-1,1],len(evts))]]) \n",
    "\n",
    "    triggers = np.array([np.max([e.get(t,0) for t in cond.get('reaction',{}).get('begin',['Stim/S -1'])]) for e in events_by_trials])\n",
    "    responses = np.array([np.min([e.get(t,np.infty) for t in cond.get('reaction',{}).get('end',['Stim/S -1'])]) for e in events_by_trials])\n",
    "    response_time = (responses-triggers)/raw.info['sfreq']\n",
    "    \n",
    "    stimulus_type, response_type, feedback_type = (get_types_by_trial(events_by_trials,cond,l) for l in ['stimulus','response','feedback'])\n",
    "\n",
    "    #response_valence = 1*np.array(['positive' in r for r in response_valence])-1*np.array(['negative' in r for r in response_valence])\n",
    "\n",
    "    md = {'LockType':lock_type,'LockSample':lock_sample[:,0],'BlockType':block_type,'BlockIndex':block_idx,'StimulusType':stimulus_type,'ResponseType':response_type,'ResponseTimes':response_time,'FeedbackType':feedback_type,'TrialEvents':events_by_trials}\n",
    "    return pd.DataFrame(md)"
   ]
  },
  {
   "cell_type": "code",
   "execution_count": 5,
   "metadata": {
    "ExecuteTime": {
     "end_time": "2019-10-19T01:10:38.215019Z",
     "start_time": "2019-10-19T01:10:38.202882Z"
    }
   },
   "outputs": [],
   "source": [
    "def get_good_trials_from_deci(info_fn,no_trials):\n",
    "    gd_trials = mne.externals.pymatreader.read_mat(info_fn,ignore_fields=['previous'],variable_names=['data'])['data']['condinfo'][2]-1\n",
    "    return [r in gd_trials for r in range(no_trials)]\n",
    "def get_epochs_with_metadata(raw,cond,tmin=-2.5,tmax=3.5,baseline=None,lock='stimulus'):\n",
    "    evts,eids = mne.events_from_annotations(raw)\n",
    "    locks = cond.get(lock,{}).get('types',{}).get('main',{})\n",
    "    metadata = get_metadata(raw,cond,lock)\n",
    "    epochs = mne.Epochs(raw,evts,{'/'.join([cond.get('condition','#'),k]).replace('#/',''):eids.get(v,-1) for k,v in locks.items() if v in eids.keys()},tmin=tmin,tmax=tmax,baseline=baseline,detrend=1,metadata=metadata,preload=True)\n",
    "    return epochs[epochs.metadata.TrialEvents.map(lambda d: np.any([k in cond.get('require',d.keys()) for k in d.keys()]))]"
   ]
  },
  {
   "cell_type": "code",
   "execution_count": 6,
   "metadata": {
    "ExecuteTime": {
     "start_time": "2019-10-19T01:11:04.993Z"
    }
   },
   "outputs": [
    {
     "name": "stdout",
     "output_type": "stream",
     "text": [
      "../../data/reinhartlab/multimodal/cg\\Raw\\MultiModal_EEG_091CG.stimulus-epo.fif.gz\n",
      "../../data/reinhartlab/multimodal/cg\\Raw\\MultiModal_EEG_091CG.response-epo.fif.gz\n",
      "../../data/reinhartlab/multimodal/cg\\Raw\\MultiModal_EEG_091CG.feedback-epo.fif.gz\n",
      "../../data/reinhartlab/multimodal/cg\\Raw\\multimodal_eeg_092CG.stimulus-epo.fif.gz\n",
      "../../data/reinhartlab/multimodal/cg\\Raw\\multimodal_eeg_092CG.response-epo.fif.gz\n",
      "../../data/reinhartlab/multimodal/cg\\Raw\\multimodal_eeg_092CG.feedback-epo.fif.gz\n",
      "../../data/reinhartlab/multimodal/cg\\Raw\\multimodal_eeg_105CG.stimulus-epo.fif.gz\n",
      "../../data/reinhartlab/multimodal/cg\\Raw\\multimodal_eeg_105CG.response-epo.fif.gz\n",
      "../../data/reinhartlab/multimodal/cg\\Raw\\multimodal_eeg_105CG.feedback-epo.fif.gz\n"
     ]
    }
   ],
   "source": [
    "conditions = [cond_visual,cond_auditive]\n",
    "# TODO: use joblib parallelization\n",
    "for f in [d+c+ext_in for c in utils.get_selection(box)][-3:]:\n",
    "    raw = mne.io.read_raw_fif(f,preload=True)\n",
    "    evts,eids = mne.events_from_annotations(raw)\n",
    "    for lock in ['stimulus','response','feedback']:\n",
    "        epochs = [get_epochs_with_metadata(raw,c,lock=lock) for c in conditions\n",
    "                  if np.any([x in eids.keys() for x in c.get(lock,{}).get('types',{}).get('main',{}).values()])]\n",
    "        epochs = mne.concatenate_epochs([e for e in epochs if len(e)],add_offset=False)\n",
    "        epochs.save(f[:-len(ext_in)]+'.'+lock+ext_out,overwrite=True)\n",
    "        print(f[:-len(ext_in)]+'.'+lock+ext_out)"
   ]
  },
  {
   "cell_type": "code",
   "execution_count": 115,
   "metadata": {},
   "outputs": [],
   "source": [
    "tmin=-1;tmax=2;baseline=(-.2,0)\n",
    "cond = cond_visual; lock = 'stimulus'\n",
    "evts,eids = mne.events_from_annotations(raw)\n",
    "locks = cond.get(lock,{}).get('types',{}).get('main',{})\n",
    "metadata = get_metadata(raw,cond,lock)\n",
    "ids = {'/'.join([cond.get('condition','#'),k]).replace('#/',''):eids.get(v,-1) for k,v in locks.items() if v in eids.keys()}\n",
    "epochs = mne.Epochs(raw,evts,ids,tmin=tmin,tmax=tmax,baseline=baseline,detrend=1,preload=True)"
   ]
  },
  {
   "cell_type": "code",
   "execution_count": 13,
   "metadata": {},
   "outputs": [
    {
     "data": {
      "application/vnd.jupyter.widget-view+json": {
       "model_id": "a0e0e9daf0eb44c2857faa520295f7cd",
       "version_major": 2,
       "version_minor": 0
      },
      "text/plain": [
       "HBox(children=(Checkbox(value=True, description='cg\\\\Epochs\\\\MulitModal_EEG_058CG.feedback', indent=False), Ch…"
      ]
     },
     "metadata": {},
     "output_type": "display_data"
    }
   ],
   "source": [
    "box = utils.select_dataset(d,ext_out,show_all=True); box"
   ]
  },
  {
   "cell_type": "code",
   "execution_count": 15,
   "metadata": {},
   "outputs": [],
   "source": [
    "files = [d+f+ext_out for f in utils.get_selection(box)]"
   ]
  },
  {
   "cell_type": "code",
   "execution_count": null,
   "metadata": {},
   "outputs": [
    {
     "name": "stdout",
     "output_type": "stream",
     "text": [
      "../../data/reinhartlab/multimodal/cg\\Epochs\\MulitModal_EEG_058CG.feedback-epo.csv\n",
      "../../data/reinhartlab/multimodal/cg\\Epochs\\MulitModal_EEG_058CG.response-epo.csv\n",
      "../../data/reinhartlab/multimodal/cg\\Epochs\\MulitModal_EEG_058CG.stimulus-epo.csv\n",
      "../../data/reinhartlab/multimodal/cg\\Epochs\\MulitModal_EEG_069CG.feedback-epo.csv\n",
      "../../data/reinhartlab/multimodal/cg\\Epochs\\MulitModal_EEG_069CG.response-epo.csv\n",
      "../../data/reinhartlab/multimodal/cg\\Epochs\\MulitModal_EEG_069CG.stimulus-epo.csv\n",
      "../../data/reinhartlab/multimodal/cg\\Epochs\\MulitModal_EEG_076CG.feedback-epo.csv\n",
      "../../data/reinhartlab/multimodal/cg\\Epochs\\MulitModal_EEG_076CG.response-epo.csv\n",
      "../../data/reinhartlab/multimodal/cg\\Epochs\\MulitModal_EEG_076CG.stimulus-epo.csv\n",
      "../../data/reinhartlab/multimodal/cg\\Epochs\\MulitModal_EEG_078CG.feedback-epo.csv\n",
      "../../data/reinhartlab/multimodal/cg\\Epochs\\MulitModal_EEG_078CG.response-epo.csv\n",
      "../../data/reinhartlab/multimodal/cg\\Epochs\\MulitModal_EEG_078CG.stimulus-epo.csv\n",
      "../../data/reinhartlab/multimodal/cg\\Epochs\\MulitModal_EEG_094CG.feedback-epo.csv\n",
      "../../data/reinhartlab/multimodal/cg\\Epochs\\MulitModal_EEG_094CG.response-epo.csv\n",
      "../../data/reinhartlab/multimodal/cg\\Epochs\\MulitModal_EEG_094CG.stimulus-epo.csv\n",
      "../../data/reinhartlab/multimodal/cg\\Epochs\\MulitModal_EEG_095part2CG.feedback-epo.csv\n",
      "../../data/reinhartlab/multimodal/cg\\Epochs\\MulitModal_EEG_095part2CG.response-epo.csv\n",
      "../../data/reinhartlab/multimodal/cg\\Epochs\\MulitModal_EEG_095part2CG.stimulus-epo.csv\n",
      "../../data/reinhartlab/multimodal/cg\\Epochs\\MulitModal_EEG_099CG.feedback-epo.csv\n",
      "../../data/reinhartlab/multimodal/cg\\Epochs\\MulitModal_EEG_099CG.response-epo.csv\n",
      "../../data/reinhartlab/multimodal/cg\\Epochs\\MulitModal_EEG_099CG.stimulus-epo.csv\n",
      "../../data/reinhartlab/multimodal/cg\\Epochs\\MulitModal_EEG_102CG.feedback-epo.csv\n",
      "../../data/reinhartlab/multimodal/cg\\Epochs\\MulitModal_EEG_102CG.response-epo.csv\n",
      "../../data/reinhartlab/multimodal/cg\\Epochs\\MulitModal_EEG_102CG.stimulus-epo.csv\n",
      "../../data/reinhartlab/multimodal/cg\\Epochs\\MulitModal_EEG_113CG.feedback-epo.csv\n",
      "../../data/reinhartlab/multimodal/cg\\Epochs\\MulitModal_EEG_113CG.response-epo.csv\n",
      "../../data/reinhartlab/multimodal/cg\\Epochs\\MulitModal_EEG_113CG.stimulus-epo.csv\n",
      "../../data/reinhartlab/multimodal/cg\\Epochs\\MulitModal_EEG_113CG_2.feedback-epo.csv\n",
      "../../data/reinhartlab/multimodal/cg\\Epochs\\MulitModal_EEG_113CG_2.response-epo.csv\n",
      "../../data/reinhartlab/multimodal/cg\\Epochs\\MulitModal_EEG_113CG_2.stimulus-epo.csv\n",
      "../../data/reinhartlab/multimodal/cg\\Epochs\\MultiModal_EEGTest_054CG.feedback-epo.csv\n",
      "../../data/reinhartlab/multimodal/cg\\Epochs\\MultiModal_EEGTest_054CG.response-epo.csv\n"
     ]
    }
   ],
   "source": [
    "for f in files:\n",
    "    epochs = mne.read_epochs(f,preload=False)\n",
    "    epochs.metadata.to_csv(f[:-len(ext_out)]+'-epo.csv')\n",
    "    print(f[:-len(ext_out)]+'-epo.csv')"
   ]
  },
  {
   "cell_type": "code",
   "execution_count": null,
   "metadata": {},
   "outputs": [],
   "source": []
  }
 ],
 "metadata": {
  "kernelspec": {
   "display_name": "Python 3",
   "language": "python",
   "name": "python3"
  },
  "language_info": {
   "codemirror_mode": {
    "name": "ipython",
    "version": 3
   },
   "file_extension": ".py",
   "mimetype": "text/x-python",
   "name": "python",
   "nbconvert_exporter": "python",
   "pygments_lexer": "ipython3",
   "version": "3.7.3"
  },
  "varInspector": {
   "cols": {
    "lenName": 16,
    "lenType": 16,
    "lenVar": 40
   },
   "kernels_config": {
    "python": {
     "delete_cmd_postfix": "",
     "delete_cmd_prefix": "del ",
     "library": "var_list.py",
     "varRefreshCmd": "print(var_dic_list())"
    },
    "r": {
     "delete_cmd_postfix": ") ",
     "delete_cmd_prefix": "rm(",
     "library": "var_list.r",
     "varRefreshCmd": "cat(var_dic_list()) "
    }
   },
   "types_to_exclude": [
    "module",
    "function",
    "builtin_function_or_method",
    "instance",
    "_Feature"
   ],
   "window_display": false
  },
  "widgets": {
   "application/vnd.jupyter.widget-state+json": {
    "state": {},
    "version_major": 2,
    "version_minor": 0
   }
  }
 },
 "nbformat": 4,
 "nbformat_minor": 4
}
