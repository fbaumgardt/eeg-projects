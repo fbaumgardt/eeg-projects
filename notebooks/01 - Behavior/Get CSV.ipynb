{
 "cells": [
  {
   "cell_type": "code",
   "execution_count": 1,
   "metadata": {},
   "outputs": [],
   "source": [
    "import warnings; warnings.filterwarnings(\"ignore\")\n",
    "import pandas as pd\n",
    "import mne; mne.utils.set_log_level('error')\n",
    "import local\n",
    "from models.preprocessing import utils"
   ]
  },
  {
   "cell_type": "code",
   "execution_count": 2,
   "metadata": {},
   "outputs": [
    {
     "data": {
      "application/vnd.jupyter.widget-view+json": {
       "model_id": "dd1a1ef930084489b4cc152440afad7c",
       "version_major": 2,
       "version_minor": 0
      },
      "text/plain": [
       "HBox(children=(Checkbox(value=True, description='ProbStim_EEGTest_110CG.feedback', indent=False), Checkbox(val…"
      ]
     },
     "metadata": {},
     "output_type": "display_data"
    }
   ],
   "source": [
    "d=\"G:/Julia/New_Datasets/RawData_new/\"\n",
    "ext=\"-epo.fif.gz\"\n",
    "box=utils.select_dataset(d,ext);box"
   ]
  },
  {
   "cell_type": "code",
   "execution_count": 3,
   "metadata": {},
   "outputs": [
    {
     "name": "stdout",
     "output_type": "stream",
     "text": [
      "ProbStim_EEGTest_110CG.feedback\n",
      "ProbStim_EEGTest_110CG.response\n",
      "ProbStim_EEGTest_110CG.stimulus\n",
      "Prob_EEGTest_002CG.feedback\n",
      "Prob_EEGTest_002CG.response\n",
      "Prob_EEGTest_002CG.stimulus\n",
      "Prob_EEGTest_004PS.feedback\n",
      "Prob_EEGTest_004PS.response\n",
      "Prob_EEGTest_004PS.stimulus\n",
      "Prob_EEGTest_005CG.feedback\n",
      "Prob_EEGTest_005CG.response\n",
      "Prob_EEGTest_005CG.stimulus\n",
      "Prob_EEGTest_006CG.feedback\n",
      "Prob_EEGTest_006CG.response\n",
      "Prob_EEGTest_006CG.stimulus\n",
      "Prob_EEGTest_006PS.feedback\n",
      "Prob_EEGTest_006PS.response\n",
      "Prob_EEGTest_006PS.stimulus\n",
      "Prob_EEGTest_007CG.feedback\n",
      "Prob_EEGTest_007CG.response\n",
      "Prob_EEGTest_007CG.stimulus\n",
      "Prob_EEGTest_007PS.feedback\n",
      "Prob_EEGTest_007PS.response\n",
      "Prob_EEGTest_007PS.stimulus\n",
      "Prob_EEGTest_008CG.feedback\n",
      "Prob_EEGTest_008CG.response\n",
      "Prob_EEGTest_008CG.stimulus\n",
      "Prob_EEGTest_008PS.feedback\n",
      "Prob_EEGTest_008PS.response\n",
      "Prob_EEGTest_008PS.stimulus\n",
      "Prob_EEGTest_009CG.feedback\n",
      "Prob_EEGTest_009CG.response\n",
      "Prob_EEGTest_009CG.stimulus\n",
      "Prob_EEGTest_010CG.feedback\n",
      "Prob_EEGTest_010CG.response\n",
      "Prob_EEGTest_010CG.stimulus\n",
      "Prob_EEGTest_011CG.feedback\n",
      "Prob_EEGTest_011CG.response\n",
      "Prob_EEGTest_011CG.stimulus\n",
      "Prob_EEGTest_011PS.feedback\n",
      "Prob_EEGTest_011PS.response\n",
      "Prob_EEGTest_011PS.stimulus\n",
      "Prob_EEGTest_012CG.feedback\n",
      "Prob_EEGTest_012CG.response\n",
      "Prob_EEGTest_012CG.stimulus\n",
      "Prob_EEGTest_016CG.feedback\n",
      "Prob_EEGTest_016CG.response\n",
      "Prob_EEGTest_016CG.stimulus\n",
      "Prob_EEGTest_016PS.feedback\n",
      "Prob_EEGTest_016PS.response\n",
      "Prob_EEGTest_016PS.stimulus\n",
      "Prob_EEGTest_017PS.feedback\n",
      "Prob_EEGTest_017PS.response\n",
      "Prob_EEGTest_017PS.stimulus\n",
      "Prob_EEGTest_018CG.feedback\n",
      "Prob_EEGTest_018CG.response\n",
      "Prob_EEGTest_018CG.stimulus\n",
      "Prob_EEGTest_018PS.feedback\n",
      "Prob_EEGTest_018PS.response\n",
      "Prob_EEGTest_018PS.stimulus\n",
      "Prob_EEGTest_021CG.feedback\n",
      "Prob_EEGTest_021CG.response\n",
      "Prob_EEGTest_021CG.stimulus\n",
      "Prob_EEGTest_023PS.feedback\n",
      "Prob_EEGTest_023PS.response\n",
      "Prob_EEGTest_023PS.stimulus\n",
      "Prob_EEGTest_024CG.feedback\n",
      "Prob_EEGTest_024CG.response\n",
      "Prob_EEGTest_024CG.stimulus\n",
      "Prob_EEGTest_026PS.feedback\n",
      "Prob_EEGTest_026PS.response\n",
      "Prob_EEGTest_026PS.stimulus\n",
      "Prob_EEGTest_027CG.feedback\n",
      "Prob_EEGTest_027CG.response\n",
      "Prob_EEGTest_027CG.stimulus\n",
      "Prob_EEGTest_029CG.feedback\n",
      "Prob_EEGTest_029CG.response\n",
      "Prob_EEGTest_029CG.stimulus\n",
      "Prob_EEGTest_029PS.feedback\n",
      "Prob_EEGTest_029PS.response\n",
      "Prob_EEGTest_029PS.stimulus\n",
      "Prob_EEGTest_031PS.feedback\n",
      "Prob_EEGTest_031PS.response\n",
      "Prob_EEGTest_031PS.stimulus\n",
      "Prob_EEGTest_032CG.feedback\n",
      "Prob_EEGTest_032CG.response\n",
      "Prob_EEGTest_032CG.stimulus\n",
      "Prob_EEGTest_034CG.feedback\n",
      "Prob_EEGTest_034CG.response\n",
      "Prob_EEGTest_034CG.stimulus\n",
      "Prob_EEGTest_034PS.feedback\n",
      "Prob_EEGTest_034PS.response\n",
      "Prob_EEGTest_034PS.stimulus\n",
      "Prob_EEGTest_035PS.feedback\n",
      "Prob_EEGTest_035PS.response\n",
      "Prob_EEGTest_035PS.stimulus\n",
      "Prob_EEGTest_037CG.feedback\n",
      "Prob_EEGTest_037CG.response\n",
      "Prob_EEGTest_037CG.stimulus\n",
      "Prob_EEGTest_038PS.feedback\n",
      "Prob_EEGTest_038PS.response\n",
      "Prob_EEGTest_038PS.stimulus\n",
      "Prob_EEGTest_041PS.feedback\n",
      "Prob_EEGTest_041PS.response\n",
      "Prob_EEGTest_041PS.stimulus\n"
     ]
    }
   ],
   "source": [
    "for subject in utils.get_selection(box):\n",
    "    df = mne.read_epochs(d+subject+ext,preload=False).metadata\n",
    "    df.to_csv(d+subject+'.csv')\n",
    "    print(subject)"
   ]
  },
  {
   "cell_type": "code",
   "execution_count": null,
   "metadata": {},
   "outputs": [],
   "source": []
  }
 ],
 "metadata": {
  "kernelspec": {
   "display_name": "Python 3",
   "language": "python",
   "name": "python3"
  },
  "language_info": {
   "codemirror_mode": {
    "name": "ipython",
    "version": 3
   },
   "file_extension": ".py",
   "mimetype": "text/x-python",
   "name": "python",
   "nbconvert_exporter": "python",
   "pygments_lexer": "ipython3",
   "version": "3.7.3"
  }
 },
 "nbformat": 4,
 "nbformat_minor": 4
}
