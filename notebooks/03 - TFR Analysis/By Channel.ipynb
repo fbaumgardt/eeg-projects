{
 "cells": [
  {
   "cell_type": "code",
   "execution_count": 1,
   "metadata": {},
   "outputs": [],
   "source": [
    "import numpy as np\n",
    "import matplotlib.pyplot as plt\n",
    "import warnings  # Hide all warnings here\n",
    "warnings.filterwarnings(\"ignore\")\n",
    "import local\n",
    "from models.preprocessing import utils\n",
    "import mne\n",
    "mne.utils.set_log_level('error')"
   ]
  },
  {
   "cell_type": "code",
   "execution_count": 2,
   "metadata": {},
   "outputs": [
    {
     "data": {
      "application/vnd.jupyter.widget-view+json": {
       "model_id": "51802c28f6f9434787b896311014f61d",
       "version_major": 2,
       "version_minor": 0
      },
      "text/plain": [
       "HBox(children=(Checkbox(value=True, description='cg\\\\Epochs\\\\MulitModal_EEG_058CG.', indent=False), Checkbox(v…"
      ]
     },
     "metadata": {},
     "output_type": "display_data"
    }
   ],
   "source": [
    "d = \"../../data/reinhartlab/multimodal/\"\n",
    "#d = \"G:\\\\Frederik\\\\data\\\\reinhartlab\\\\multimodal\\\\\"\n",
    "ext_in = \"visual-average.2to90-tfr.h5\"\n",
    "box = utils.select_dataset(d,ext_in); box"
   ]
  },
  {
   "cell_type": "code",
   "execution_count": 13,
   "metadata": {},
   "outputs": [],
   "source": [
    "tfrs = [mne.time_frequency.read_tfrs(d+c+ext_in) for c in utils.get_selection(box)]\n",
    "tfr_ga_vis = mne.grand_average([tf for tfr in tfrs for tf in tfr],interpolate_bads=True,drop_bads=True)"
   ]
  },
  {
   "cell_type": "code",
   "execution_count": 14,
   "metadata": {},
   "outputs": [],
   "source": [
    "ext_in = \"audio-average.2to90-tfr.h5\"\n",
    "tfrs = [mne.time_frequency.read_tfrs(d+c+ext_in) for c in utils.get_selection(box)]\n",
    "tfr_ga_aud = mne.grand_average([tf for tfr in tfrs for tf in tfr],interpolate_bads=True,drop_bads=True)"
   ]
  },
  {
   "cell_type": "code",
   "execution_count": 18,
   "metadata": {},
   "outputs": [
    {
     "data": {
      "image/png": "[encoded data removed]",
      "text/plain": [
       "<Figure size 1152x576 with 4 Axes>"
      ]
     },
     "metadata": {
      "needs_background": "light"
     },
     "output_type": "display_data"
    }
   ],
   "source": [
    "ch = 'F5'\n",
    "fig,ax=plt.subplots(1,2,figsize=(16,8))\n",
    "tfr_ga_vis.copy().crop(fmax=30).plot(tmin=0.,picks=ch,baseline=(-.2,0),mode='mean',vmin=0,cmap='Spectral_r',axes=ax[0],show=False);\n",
    "tfr_ga_aud.copy().crop(fmax=30).plot(tmin=0.,picks=ch,baseline=(-.2,0),mode='mean',vmin=0,cmap='Spectral_r',axes=ax[1],show=False);"
   ]
  },
  {
   "cell_type": "code",
   "execution_count": null,
   "metadata": {},
   "outputs": [],
   "source": []
  }
 ],
 "metadata": {
  "kernelspec": {
   "display_name": "Python 3",
   "language": "python",
   "name": "python3"
  },
  "language_info": {
   "codemirror_mode": {
    "name": "ipython",
    "version": 3
   },
   "file_extension": ".py",
   "mimetype": "text/x-python",
   "name": "python",
   "nbconvert_exporter": "python",
   "pygments_lexer": "ipython3",
   "version": "3.7.3"
  },
  "widgets": {
   "application/vnd.jupyter.widget-state+json": {
    "state": {
     "01d958f1fc1b4a498c9590cf44e7fa08": {
      "model_module": "@jupyter-widgets/base",
      "model_module_version": "1.1.0",
      "model_name": "LayoutModel",
      "state": {
       "_model_module_version": "1.1.0",
       "_view_module_version": "1.1.0"
      }
     },
     "01df26af2578426fab616e8b1b79d7dd": {
      "model_module": "@jupyter-widgets/controls",
      "model_module_version": "1.4.0",
      "model_name": "HBoxModel",
      "state": {
       "_model_module_version": "1.4.0",
       "_view_module_version": "1.4.0",
       "children": [
        "IPY_MODEL_f0745e8a03124e32a476c7cfcd2c51f3",
        "IPY_MODEL_678b5a447e584cdb9d51433379efd3a7",
        "IPY_MODEL_642a059e0a074e41be2618373c940e3b",
        "IPY_MODEL_2befae24f1e848ffa348112503a0ff23",
        "IPY_MODEL_acaf208c493e4a37b3a2e9a53077cd15",
        "IPY_MODEL_6f030d0dfc504ee782503a02859f45d1",
        "IPY_MODEL_f0f6795631344b4eab42d02d09a64c46",
        "IPY_MODEL_3324327c5ce94aa8bc43d2f5bd025022",
        "IPY_MODEL_37f7546f98f04d2680c37e1f2157b2e0",
        "IPY_MODEL_54ac903b0cad4d40abc520ea2ff388b0",
        "IPY_MODEL_9149bef557d0472a887936b4c4ba9951",
        "IPY_MODEL_10e53b55638c48dfbb2d09e43b7f62b9",
        "IPY_MODEL_68544be5cb3c49b7a7a4988dc9608dc5",
        "IPY_MODEL_021c34a5e6264199a093567ccb25c57d"
       ],
       "layout": "IPY_MODEL_5a1817ffab554272b047f909ef12e910"
      }
     },
     "021c34a5e6264199a093567ccb25c57d": {
      "model_module": "@jupyter-widgets/controls",
      "model_module_version": "1.4.0",
      "model_name": "CheckboxModel",
      "state": {
       "_model_module_version": "1.4.0",
       "_view_module_version": "1.4.0",
       "description": "cg/TFR/MultiModal_EEGTest_071CG.",
       "disabled": false,
       "indent": false,
       "layout": "IPY_MODEL_1699fff9381c4b3f8a02d9f182aaf7df",
       "style": "IPY_MODEL_11cf7b30485948d4b092dec42fcfd826",
       "value": true
      }
     },
     "08d4b4d3371a4d9ebf0facbe8d822318": {
      "model_module": "@jupyter-widgets/base",
      "model_module_version": "1.1.0",
      "model_name": "LayoutModel",
      "state": {
       "_model_module_version": "1.1.0",
       "_view_module_version": "1.1.0"
      }
     },
     "10e53b55638c48dfbb2d09e43b7f62b9": {
      "model_module": "@jupyter-widgets/controls",
      "model_module_version": "1.4.0",
      "model_name": "CheckboxModel",
      "state": {
       "_model_module_version": "1.4.0",
       "_view_module_version": "1.4.0",
       "description": "cg/TFR/MulitModal_EEG_095part2CG.",
       "disabled": false,
       "indent": false,
       "layout": "IPY_MODEL_08d4b4d3371a4d9ebf0facbe8d822318",
       "style": "IPY_MODEL_9f82f2ef3c7c4f749e8dfea30a0540fe",
       "value": false
      }
     },
     "11cf7b30485948d4b092dec42fcfd826": {
      "model_module": "@jupyter-widgets/controls",
      "model_module_version": "1.4.0",
      "model_name": "DescriptionStyleModel",
      "state": {
       "_model_module_version": "1.4.0",
       "_view_module_version": "1.1.0",
       "description_width": ""
      }
     },
     "1699fff9381c4b3f8a02d9f182aaf7df": {
      "model_module": "@jupyter-widgets/base",
      "model_module_version": "1.1.0",
      "model_name": "LayoutModel",
      "state": {
       "_model_module_version": "1.1.0",
       "_view_module_version": "1.1.0"
      }
     },
     "18b26709610447c3abc71b5ed6d1b424": {
      "model_module": "@jupyter-widgets/controls",
      "model_module_version": "1.4.0",
      "model_name": "DescriptionStyleModel",
      "state": {
       "_model_module_version": "1.4.0",
       "_view_module_version": "1.1.0",
       "description_width": ""
      }
     },
     "1a6bf15ed445414dba8cb2a24ebc0c37": {
      "model_module": "@jupyter-widgets/controls",
      "model_module_version": "1.4.0",
      "model_name": "DescriptionStyleModel",
      "state": {
       "_model_module_version": "1.4.0",
       "_view_module_version": "1.1.0",
       "description_width": ""
      }
     },
     "1e57450d13f54dc5bd08fb4eea83749f": {
      "model_module": "@jupyter-widgets/controls",
      "model_module_version": "1.4.0",
      "model_name": "DescriptionStyleModel",
      "state": {
       "_model_module_version": "1.4.0",
       "_view_module_version": "1.1.0",
       "description_width": ""
      }
     },
     "226af23fcf1e4ad8964d7d5fc5e5a94d": {
      "model_module": "@jupyter-widgets/base",
      "model_module_version": "1.1.0",
      "model_name": "LayoutModel",
      "state": {
       "_model_module_version": "1.1.0",
       "_view_module_version": "1.1.0"
      }
     },
     "252fabcc89d5494682c19c05df651dc6": {
      "model_module": "@jupyter-widgets/base",
      "model_module_version": "1.1.0",
      "model_name": "LayoutModel",
      "state": {
       "_model_module_version": "1.1.0",
       "_view_module_version": "1.1.0"
      }
     },
     "2bb435b135404d5bb27b852aed9ab09a": {
      "model_module": "@jupyter-widgets/controls",
      "model_module_version": "1.4.0",
      "model_name": "DescriptionStyleModel",
      "state": {
       "_model_module_version": "1.4.0",
       "_view_module_version": "1.1.0",
       "description_width": ""
      }
     },
     "2be06de8ba0346e08534b12b8a38596d": {
      "model_module": "@jupyter-widgets/base",
      "model_module_version": "1.1.0",
      "model_name": "LayoutModel",
      "state": {
       "_model_module_version": "1.1.0",
       "_view_module_version": "1.1.0"
      }
     },
     "2befae24f1e848ffa348112503a0ff23": {
      "model_module": "@jupyter-widgets/controls",
      "model_module_version": "1.4.0",
      "model_name": "CheckboxModel",
      "state": {
       "_model_module_version": "1.4.0",
       "_view_module_version": "1.4.0",
       "description": "cg/TFR/MulitModal_EEG_069CG.",
       "disabled": false,
       "indent": false,
       "layout": "IPY_MODEL_8cb2ab9bbc3e40058ae008c85ffef091",
       "style": "IPY_MODEL_b2274bfbd5284b8bb36e892182855935",
       "value": false
      }
     },
     "3324327c5ce94aa8bc43d2f5bd025022": {
      "model_module": "@jupyter-widgets/controls",
      "model_module_version": "1.4.0",
      "model_name": "CheckboxModel",
      "state": {
       "_model_module_version": "1.4.0",
       "_view_module_version": "1.4.0",
       "description": "cg/TFR/MulitModal_EEG_099CG.",
       "disabled": false,
       "indent": false,
       "layout": "IPY_MODEL_ad567911f1214306987f71eb858b3577",
       "style": "IPY_MODEL_ca1bad0ee8514989b1505a151281b560",
       "value": true
      }
     },
     "37f7546f98f04d2680c37e1f2157b2e0": {
      "model_module": "@jupyter-widgets/controls",
      "model_module_version": "1.4.0",
      "model_name": "CheckboxModel",
      "state": {
       "_model_module_version": "1.4.0",
       "_view_module_version": "1.4.0",
       "description": "cg/TFR/MulitModal_EEG_113CG_2.",
       "disabled": false,
       "indent": false,
       "layout": "IPY_MODEL_2be06de8ba0346e08534b12b8a38596d",
       "style": "IPY_MODEL_8e8631ef24474ea9bc5469b9cedc79a8",
       "value": true
      }
     },
     "3d2f2db6521f4e5fae7c5cfe3b34978a": {
      "model_module": "@jupyter-widgets/base",
      "model_module_version": "1.1.0",
      "model_name": "LayoutModel",
      "state": {
       "_model_module_version": "1.1.0",
       "_view_module_version": "1.1.0"
      }
     },
     "54ac903b0cad4d40abc520ea2ff388b0": {
      "model_module": "@jupyter-widgets/controls",
      "model_module_version": "1.4.0",
      "model_name": "CheckboxModel",
      "state": {
       "_model_module_version": "1.4.0",
       "_view_module_version": "1.4.0",
       "description": "cg/TFR/MultiModal_EEGTest_066CG.",
       "disabled": false,
       "indent": false,
       "layout": "IPY_MODEL_b8f59c4cede248a58b4b392e168d6de8",
       "style": "IPY_MODEL_6a3aacb8580e4f22a7f2cc8c95f27515",
       "value": true
      }
     },
     "5a1817ffab554272b047f909ef12e910": {
      "model_module": "@jupyter-widgets/base",
      "model_module_version": "1.1.0",
      "model_name": "LayoutModel",
      "state": {
       "_model_module_version": "1.1.0",
       "_view_module_version": "1.1.0",
       "display": "inline-flex",
       "flex_flow": "row wrap",
       "width": "100%"
      }
     },
     "5cf5f56a41d24d64a4fccee8d0da75e3": {
      "model_module": "@jupyter-widgets/base",
      "model_module_version": "1.1.0",
      "model_name": "LayoutModel",
      "state": {
       "_model_module_version": "1.1.0",
       "_view_module_version": "1.1.0"
      }
     },
     "642a059e0a074e41be2618373c940e3b": {
      "model_module": "@jupyter-widgets/controls",
      "model_module_version": "1.4.0",
      "model_name": "CheckboxModel",
      "state": {
       "_model_module_version": "1.4.0",
       "_view_module_version": "1.4.0",
       "description": "cg/TFR/MultiModal_EEGTest_073CG.",
       "disabled": false,
       "indent": false,
       "layout": "IPY_MODEL_01d958f1fc1b4a498c9590cf44e7fa08",
       "style": "IPY_MODEL_aa76ade2ea494e0a93414318e6d124d1",
       "value": true
      }
     },
     "678b5a447e584cdb9d51433379efd3a7": {
      "model_module": "@jupyter-widgets/controls",
      "model_module_version": "1.4.0",
      "model_name": "CheckboxModel",
      "state": {
       "_model_module_version": "1.4.0",
       "_view_module_version": "1.4.0",
       "description": "cg/TFR/MulitModal_EEG_094CG.",
       "disabled": false,
       "indent": false,
       "layout": "IPY_MODEL_76ea4975a50e4e90918a7239aac906f8",
       "style": "IPY_MODEL_1e57450d13f54dc5bd08fb4eea83749f",
       "value": true
      }
     },
     "68544be5cb3c49b7a7a4988dc9608dc5": {
      "model_module": "@jupyter-widgets/controls",
      "model_module_version": "1.4.0",
      "model_name": "CheckboxModel",
      "state": {
       "_model_module_version": "1.4.0",
       "_view_module_version": "1.4.0",
       "description": "cg/TFR/MultiModal_EEGTest_054CG.",
       "disabled": false,
       "indent": false,
       "layout": "IPY_MODEL_93452ca1b0954b11a36e302a2ab96cd5",
       "style": "IPY_MODEL_729897cb7ef64740ad979b8474e05ef7",
       "value": true
      }
     },
     "6a3aacb8580e4f22a7f2cc8c95f27515": {
      "model_module": "@jupyter-widgets/controls",
      "model_module_version": "1.4.0",
      "model_name": "DescriptionStyleModel",
      "state": {
       "_model_module_version": "1.4.0",
       "_view_module_version": "1.1.0",
       "description_width": ""
      }
     },
     "6f030d0dfc504ee782503a02859f45d1": {
      "model_module": "@jupyter-widgets/controls",
      "model_module_version": "1.4.0",
      "model_name": "CheckboxModel",
      "state": {
       "_model_module_version": "1.4.0",
       "_view_module_version": "1.4.0",
       "description": "cg/TFR/MulitModal_EEG_113CG.",
       "disabled": false,
       "indent": false,
       "layout": "IPY_MODEL_ec2980bfd7e9424abbcee6a25109a108",
       "style": "IPY_MODEL_18b26709610447c3abc71b5ed6d1b424",
       "value": false
      }
     },
     "729897cb7ef64740ad979b8474e05ef7": {
      "model_module": "@jupyter-widgets/controls",
      "model_module_version": "1.4.0",
      "model_name": "DescriptionStyleModel",
      "state": {
       "_model_module_version": "1.4.0",
       "_view_module_version": "1.1.0",
       "description_width": ""
      }
     },
     "76ea4975a50e4e90918a7239aac906f8": {
      "model_module": "@jupyter-widgets/base",
      "model_module_version": "1.1.0",
      "model_name": "LayoutModel",
      "state": {
       "_model_module_version": "1.1.0",
       "_view_module_version": "1.1.0"
      }
     },
     "8cb2ab9bbc3e40058ae008c85ffef091": {
      "model_module": "@jupyter-widgets/base",
      "model_module_version": "1.1.0",
      "model_name": "LayoutModel",
      "state": {
       "_model_module_version": "1.1.0",
       "_view_module_version": "1.1.0"
      }
     },
     "8e8631ef24474ea9bc5469b9cedc79a8": {
      "model_module": "@jupyter-widgets/controls",
      "model_module_version": "1.4.0",
      "model_name": "DescriptionStyleModel",
      "state": {
       "_model_module_version": "1.4.0",
       "_view_module_version": "1.1.0",
       "description_width": ""
      }
     },
     "9149bef557d0472a887936b4c4ba9951": {
      "model_module": "@jupyter-widgets/controls",
      "model_module_version": "1.4.0",
      "model_name": "CheckboxModel",
      "state": {
       "_model_module_version": "1.4.0",
       "_view_module_version": "1.4.0",
       "description": "cg/TFR/MulitModal_EEG_058CG.",
       "disabled": false,
       "indent": false,
       "layout": "IPY_MODEL_5cf5f56a41d24d64a4fccee8d0da75e3",
       "style": "IPY_MODEL_9a3a5ba3972e4cde86dbe8bf450311d5",
       "value": true
      }
     },
     "93452ca1b0954b11a36e302a2ab96cd5": {
      "model_module": "@jupyter-widgets/base",
      "model_module_version": "1.1.0",
      "model_name": "LayoutModel",
      "state": {
       "_model_module_version": "1.1.0",
       "_view_module_version": "1.1.0"
      }
     },
     "9a3a5ba3972e4cde86dbe8bf450311d5": {
      "model_module": "@jupyter-widgets/controls",
      "model_module_version": "1.4.0",
      "model_name": "DescriptionStyleModel",
      "state": {
       "_model_module_version": "1.4.0",
       "_view_module_version": "1.1.0",
       "description_width": ""
      }
     },
     "9f82f2ef3c7c4f749e8dfea30a0540fe": {
      "model_module": "@jupyter-widgets/controls",
      "model_module_version": "1.4.0",
      "model_name": "DescriptionStyleModel",
      "state": {
       "_model_module_version": "1.4.0",
       "_view_module_version": "1.1.0",
       "description_width": ""
      }
     },
     "aa76ade2ea494e0a93414318e6d124d1": {
      "model_module": "@jupyter-widgets/controls",
      "model_module_version": "1.4.0",
      "model_name": "DescriptionStyleModel",
      "state": {
       "_model_module_version": "1.4.0",
       "_view_module_version": "1.1.0",
       "description_width": ""
      }
     },
     "acaf208c493e4a37b3a2e9a53077cd15": {
      "model_module": "@jupyter-widgets/controls",
      "model_module_version": "1.4.0",
      "model_name": "CheckboxModel",
      "state": {
       "_model_module_version": "1.4.0",
       "_view_module_version": "1.4.0",
       "description": "cg/TFR/MulitModal_EEG_102CG.",
       "disabled": false,
       "indent": false,
       "layout": "IPY_MODEL_3d2f2db6521f4e5fae7c5cfe3b34978a",
       "style": "IPY_MODEL_2bb435b135404d5bb27b852aed9ab09a",
       "value": true
      }
     },
     "ad567911f1214306987f71eb858b3577": {
      "model_module": "@jupyter-widgets/base",
      "model_module_version": "1.1.0",
      "model_name": "LayoutModel",
      "state": {
       "_model_module_version": "1.1.0",
       "_view_module_version": "1.1.0"
      }
     },
     "b2274bfbd5284b8bb36e892182855935": {
      "model_module": "@jupyter-widgets/controls",
      "model_module_version": "1.4.0",
      "model_name": "DescriptionStyleModel",
      "state": {
       "_model_module_version": "1.4.0",
       "_view_module_version": "1.1.0",
       "description_width": ""
      }
     },
     "b8f59c4cede248a58b4b392e168d6de8": {
      "model_module": "@jupyter-widgets/base",
      "model_module_version": "1.1.0",
      "model_name": "LayoutModel",
      "state": {
       "_model_module_version": "1.1.0",
       "_view_module_version": "1.1.0"
      }
     },
     "ca1bad0ee8514989b1505a151281b560": {
      "model_module": "@jupyter-widgets/controls",
      "model_module_version": "1.4.0",
      "model_name": "DescriptionStyleModel",
      "state": {
       "_model_module_version": "1.4.0",
       "_view_module_version": "1.1.0",
       "description_width": ""
      }
     },
     "cad42709ec934140b419d8f5b03b2576": {
      "model_module": "@jupyter-widgets/controls",
      "model_module_version": "1.4.0",
      "model_name": "DescriptionStyleModel",
      "state": {
       "_model_module_version": "1.4.0",
       "_view_module_version": "1.1.0",
       "description_width": ""
      }
     },
     "ec2980bfd7e9424abbcee6a25109a108": {
      "model_module": "@jupyter-widgets/base",
      "model_module_version": "1.1.0",
      "model_name": "LayoutModel",
      "state": {
       "_model_module_version": "1.1.0",
       "_view_module_version": "1.1.0"
      }
     },
     "f0745e8a03124e32a476c7cfcd2c51f3": {
      "model_module": "@jupyter-widgets/controls",
      "model_module_version": "1.4.0",
      "model_name": "CheckboxModel",
      "state": {
       "_model_module_version": "1.4.0",
       "_view_module_version": "1.4.0",
       "description": "cg/TFR/MulitModal_EEG_076CG.",
       "disabled": false,
       "indent": false,
       "layout": "IPY_MODEL_226af23fcf1e4ad8964d7d5fc5e5a94d",
       "style": "IPY_MODEL_1a6bf15ed445414dba8cb2a24ebc0c37",
       "value": true
      }
     },
     "f0f6795631344b4eab42d02d09a64c46": {
      "model_module": "@jupyter-widgets/controls",
      "model_module_version": "1.4.0",
      "model_name": "CheckboxModel",
      "state": {
       "_model_module_version": "1.4.0",
       "_view_module_version": "1.4.0",
       "description": "cg/TFR/MulitModal_EEG_078CG.",
       "disabled": false,
       "indent": false,
       "layout": "IPY_MODEL_252fabcc89d5494682c19c05df651dc6",
       "style": "IPY_MODEL_cad42709ec934140b419d8f5b03b2576",
       "value": true
      }
     }
    },
    "version_major": 2,
    "version_minor": 0
   }
  }
 },
 "nbformat": 4,
 "nbformat_minor": 4
}
