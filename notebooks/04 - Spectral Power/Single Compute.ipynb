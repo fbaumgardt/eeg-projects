{
  "cells": [
    {
      "cell_type": "code",
      "source": [
        "import warnings  # Hide all warnings here\n",
        "warnings.filterwarnings(\"ignore\")\n",
        "from time import time\n",
        "import mne\n",
        "mne.utils.set_log_level('error')\n",
        "import numpy as np\n",
        "import local\n",
        "from models.preprocessing import utils"
      ],
      "outputs": [],
      "execution_count": 1,
      "metadata": {}
    },
    {
      "cell_type": "code",
      "source": [
        "d = \"../../data/reinhartlab/multimodal/cg/Epochs/\"\n",
        "ext_in = \"-epo.fif.gz\"\n",
        "box = utils.select_dataset(d,ext_in);box"
      ],
      "outputs": [
        {
          "output_type": "display_data",
          "data": {
            "application/vnd.jupyter.widget-view+json": {
              "model_id": "d967561584b949938a7187f3ebdc2af8",
              "version_major": 2,
              "version_minor": 0
            },
            "text/plain": [
              "HBox(children=(Checkbox(value=True, description='MulitModal_EEG_058CG.feedback', indent=False), Checkbox(value…"
            ]
          },
          "metadata": {}
        }
      ],
      "execution_count": 2,
      "metadata": {}
    },
    {
      "cell_type": "code",
      "source": [
        "freqs = [2,3,4,5,6,7,8,9,11,13,15,17,20,23,26,30,35,40,45,50,60,70,80,90,100]\n",
        "n_cycles = 5"
      ],
      "outputs": [],
      "execution_count": 3,
      "metadata": {}
    },
    {
      "cell_type": "code",
      "source": [
        "from time import time\n",
        "files = [d+f+ext_in for f in utils.get_selection(box)]\n",
        "for f in files[1:]:\n",
        "    s=time()\n",
        "    enr = mne.read_epochs(f)\n",
        "    picks=mne.pick_types(enr.info,eeg=True)\n",
        "    # MAKE TFR BY CHANNEL\n",
        "    tfr = mne.time_frequency.tfr_morlet(enr,[freqs[0]],n_cycles,picks=picks,return_itc=0,average=0,n_jobs=len(picks)).apply_baseline(mode='percent',baseline=(-.2,0))\n",
        "    tfr.data = np.mean(tfr.data,axis=1,keepdims=True)\n",
        "    for frq in freqs[1:]:\n",
        "        tf = mne.time_frequency.tfr_morlet(enr,[frq],n_cycles,picks=picks,return_itc=0,average=0,n_jobs=len(picks)).apply_baseline(mode='percent',baseline=(-.2,0))\n",
        "        tfr.data = np.dstack([tfr.data,np.mean(tf.data,axis=1,keepdims=True)])\n",
        "    tfr.freqs = freqs\n",
        "    tfr.info['ch_names'] = ['Cz']\n",
        "    tfr.info['chs'] = [c for c in tfr.info['chs'] if c.get('ch_name','')=='Cz']\n",
        "    tfr.info['nchan'] = 1\n",
        "    tfr.event_id = {k.replace('/','_'):v for k,v in tfr.event_id.items()}\n",
        "    tfr.save(f[:-len(ext_in)]+'.aggregate.2to100-tfr.h5', overwrite=True)\n",
        "    print(f[len(d):-len(ext_in)]+\", duration: {:.2f}s\".format(time()-s))"
      ],
      "outputs": [
        {
          "output_type": "stream",
          "name": "stdout",
          "text": [
            "MulitModal_EEG_058CG.response, duration: 999.38s\n",
            "MulitModal_EEG_058CG.stimulus, duration: 1015.92s\n",
            "MulitModal_EEG_069CG.feedback, duration: 708.71s\n",
            "MulitModal_EEG_069CG.response, duration: 592.72s\n",
            "MulitModal_EEG_069CG.stimulus, duration: 698.41s\n",
            "MulitModal_EEG_076CG.feedback, duration: 684.96s\n",
            "MulitModal_EEG_076CG.response, duration: 335.03s\n",
            "MulitModal_EEG_076CG.stimulus, duration: 679.09s\n",
            "MulitModal_EEG_078CG.feedback, duration: 1010.92s\n",
            "MulitModal_EEG_078CG.response, duration: 999.35s\n",
            "MulitModal_EEG_078CG.stimulus, duration: 1007.73s\n",
            "MulitModal_EEG_094CG.feedback, duration: 705.66s\n",
            "MulitModal_EEG_094CG.response, duration: 698.22s\n",
            "MulitModal_EEG_094CG.stimulus, duration: 710.85s\n",
            "MulitModal_EEG_095part2CG.feedback, duration: 302.18s\n",
            "MulitModal_EEG_095part2CG.response, duration: 301.32s\n",
            "MulitModal_EEG_095part2CG.stimulus, duration: 302.68s\n",
            "MulitModal_EEG_099CG.feedback, duration: 981.67s\n",
            "MulitModal_EEG_099CG.response, duration: 983.11s\n",
            "MulitModal_EEG_099CG.stimulus, duration: 991.88s\n",
            "MulitModal_EEG_102CG.feedback, duration: 1004.23s\n",
            "MulitModal_EEG_102CG.response, duration: 990.84s\n",
            "MulitModal_EEG_102CG.stimulus, duration: 1009.74s\n",
            "MulitModal_EEG_113CG.feedback, duration: 900.24s\n"
          ]
        }
      ],
      "execution_count": null,
      "metadata": {}
    },
    {
      "cell_type": "code",
      "source": [
        "def binned_mean_func(ts):\n",
        "    time_slice = lambda t,s: np.all([t>s[0],t<=s[1]],axis=0)\n",
        "    get_slice_mean = lambda x,t: np.mean(x.data[:,:,:,time_slice(x.times,t)],axis=3,keepdims=True)\n",
        "    return lambda tfr: np.concatenate([get_slice_mean(tfr,t) for t in zip(ts[:-1],ts[1:])],axis=3)\n",
        "\n",
        "from time import time\n",
        "files = [d+f+ext_in for f in utils.get_selection(box)]\n",
        "ts=np.array(range(-10,21))/10\n",
        "binned_mean = binned_mean_func(ts)\n",
        "for f in files[16:]:\n",
        "    s=time()\n",
        "    enr = mne.read_epochs(f)\n",
        "    picks=mne.pick_types(enr.info,eeg=True)\n",
        "    # MAKE TFR BY CHANNEL\n",
        "    tfr = mne.time_frequency.tfr_morlet(enr,[freqs[0]],n_cycles,picks=picks,return_itc=0,average=0,n_jobs=len(picks)).apply_baseline(mode='percent',baseline=(-.2,0))\n",
        "    tfr.data = np.concatenate([get_slice_mean(tfr,t) for t in zip(ts[:-1],ts[1:])],axis=3)\n",
        "    for frq in freqs[1:]:\n",
        "        tf = mne.time_frequency.tfr_morlet(enr,[frq],n_cycles,picks=picks,return_itc=0,average=0,n_jobs=len(picks)).apply_baseline(mode='percent',baseline=(-.2,0))\n",
        "        tfr.data = np.dstack([tfr.data,np.concatenate([get_slice_mean(tf,t) for t in zip(ts[:-1],ts[1:])],axis=3)])\n",
        "    tfr.freqs = freqs\n",
        "    tfr.times = ts[:-1]\n",
        "    tfr.event_id = {k.replace('/','_'):v for k,v in tfr.event_id.items()}\n",
        "    tfr.save(f[:-len(ext_in)]+'.binned.2to100-tfr.h5', overwrite=True)\n",
        "    print(f[len(d):-len(ext_in)]+\", duration: {:.2f}s\".format(time()-s))"
      ],
      "outputs": [
        {
          "output_type": "stream",
          "name": "stdout",
          "text": [
            "MulitModal_EEG_095part2CG.response, duration: 302.38s\n",
            "MulitModal_EEG_095part2CG.stimulus, duration: 296.60s\n",
            "MulitModal_EEG_099CG.feedback, duration: 990.80s\n",
            "MulitModal_EEG_099CG.response, duration: 990.41s\n",
            "MulitModal_EEG_099CG.stimulus, duration: 976.61s\n",
            "MulitModal_EEG_102CG.feedback, duration: 1009.30s\n",
            "MulitModal_EEG_102CG.response, duration: 996.39s\n",
            "MulitModal_EEG_102CG.stimulus, duration: 1008.65s\n",
            "MulitModal_EEG_113CG_2.feedback, duration: 120.94s\n",
            "MulitModal_EEG_113CG_2.response, duration: 119.05s\n",
            "MulitModal_EEG_113CG_2.stimulus, duration: 119.42s\n",
            "MultiModal_EEGTest_054CG.feedback, duration: 1000.97s\n",
            "MultiModal_EEGTest_054CG.response, duration: 999.88s\n",
            "MultiModal_EEGTest_054CG.stimulus, duration: 1004.48s\n",
            "MultiModal_EEGTest_066CG.feedback, duration: 1006.71s\n",
            "MultiModal_EEGTest_066CG.response, duration: 992.35s\n",
            "MultiModal_EEGTest_066CG.stimulus, duration: 1015.58s\n",
            "MultiModal_EEGTest_071CG.feedback, duration: 773.85s\n",
            "MultiModal_EEGTest_071CG.response, duration: 729.00s\n",
            "MultiModal_EEGTest_071CG.stimulus, duration: 768.51s\n",
            "MultiModal_EEGTest_073CG.feedback, duration: 358.62s\n",
            "MultiModal_EEGTest_073CG.response, duration: 164.91s\n",
            "MultiModal_EEGTest_073CG.stimulus, duration: 350.29s\n",
            "multimodal_eeg_049CG.feedback, duration: 999.08s\n",
            "multimodal_eeg_049CG.response, duration: 997.60s\n",
            "multimodal_eeg_049CG.stimulus, duration: 1020.28s\n",
            "multimodal_eeg_053CG.feedback, duration: 1013.17s\n",
            "multimodal_eeg_053CG.response, duration: 1009.07s\n",
            "multimodal_eeg_053CG.stimulus, duration: 1010.82s\n",
            "multimodal_eeg_055CG.feedback, duration: 702.13s\n",
            "multimodal_eeg_055CG.response, duration: 697.82s\n",
            "multimodal_eeg_055CG.stimulus, duration: 703.31s\n",
            "multimodal_eeg_056CG.feedback, duration: 996.06s\n",
            "multimodal_eeg_056CG.response, duration: 909.70s\n",
            "multimodal_eeg_056CG.stimulus, duration: 1008.49s\n",
            "multimodal_eeg_060CG.feedback, duration: 1013.10s\n",
            "multimodal_eeg_060CG.response, duration: 921.16s\n",
            "multimodal_eeg_060CG.stimulus, duration: 1011.68s\n",
            "multimodal_eeg_061CG.feedback, duration: 999.34s\n",
            "multimodal_eeg_061CG.response, duration: 899.63s\n",
            "multimodal_eeg_061CG.stimulus, duration: 1009.28s\n",
            "multimodal_eeg_062CG.feedback, duration: 1030.86s\n",
            "multimodal_eeg_062CG.response, duration: 1026.20s\n",
            "multimodal_eeg_062CG.stimulus, duration: 1026.20s\n",
            "multimodal_eeg_063CG.feedback, duration: 1010.54s\n",
            "multimodal_eeg_063CG.response, duration: 1000.56s\n",
            "multimodal_eeg_063CG.stimulus, duration: 1006.71s\n",
            "multimodal_eeg_068CG.feedback, duration: 1004.88s\n"
          ]
        }
      ],
      "execution_count": null,
      "metadata": {}
    },
    {
      "cell_type": "code",
      "source": [],
      "outputs": [],
      "execution_count": null,
      "metadata": {}
    }
  ],
  "metadata": {
    "kernelspec": {
      "display_name": "Python 3",
      "language": "python",
      "name": "python3"
    },
    "language_info": {
      "codemirror_mode": {
        "name": "ipython",
        "version": 3
      },
      "file_extension": ".py",
      "mimetype": "text/x-python",
      "name": "python",
      "nbconvert_exporter": "python",
      "pygments_lexer": "ipython3",
      "version": "3.7.3"
    },
    "nteract": {
      "version": "0.15.0"
    }
  },
  "nbformat": 4,
  "nbformat_minor": 4
}