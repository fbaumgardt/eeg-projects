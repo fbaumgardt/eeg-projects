{
 "cells": [
  {
   "cell_type": "code",
   "execution_count": 2,
   "metadata": {},
   "outputs": [],
   "source": [
    "import numpy as np\n",
    "import scipy as sp\n",
    "import mne\n",
    "from functools import reduce\n",
    "from time import time\n",
    "import local\n",
    "from models.preprocessing import utils\n",
    "from joblib import Parallel, delayed\n",
    "from pickle import dump"
   ]
  },
  {
   "cell_type": "code",
   "execution_count": 53,
   "metadata": {},
   "outputs": [
    {
     "data": {
      "application/vnd.jupyter.widget-view+json": {
       "model_id": "012f958c47464957af625e18cb95c823",
       "version_major": 2,
       "version_minor": 0
      },
      "text/plain": [
       "HBox(children=(Checkbox(value=True, description='ProbStim_EEGTest_110CG.feedback', indent=False), Checkbox(val…"
      ]
     },
     "metadata": {},
     "output_type": "display_data"
    }
   ],
   "source": [
    "d=\"../../data/reinhartlab/multimodal/cg/Epochs/\"\n",
    "d=\"G:/Julia/New_Datasets/RawData_new/\"\n",
    "ext=\"-epo.fif.gz\"\n",
    "box=utils.select_dataset(d,ext);box"
   ]
  },
  {
   "cell_type": "code",
   "execution_count": 43,
   "metadata": {},
   "outputs": [],
   "source": [
    "def get_mask(raw, evts, times, by_trial=False):\n",
    "    T = len(raw.times)\n",
    "    mask = np.array([[np.where((np.arange(T) >= max(int(e+tmin*raw.info['sfreq']), 0)) &\n",
    "            (np.arange(T) <= min(int(e+tmax*raw.info['sfreq']), T)))[0] for tmin,tmax in times] for e in evts])\n",
    "    if not by_trial:\n",
    "        mask = mask.reshape(-1)\n",
    "    return mask\n",
    "\n",
    "\n",
    "def phase_fn(x):\n",
    "    hil = sp.signal.hilbert(x)\n",
    "    res = np.angle(hil)+np.pi\n",
    "    return res\n",
    "\n",
    "\n",
    "def amplitude_fn(x):\n",
    "    hil = sp.signal.hilbert(x)\n",
    "    res = np.abs(hil)\n",
    "    return res\n",
    "\n",
    "\n",
    "def pac_tort(lo, hi, nbin=20):\n",
    "    bins = np.linspace(0, 2 * np.pi, nbin + 1)\n",
    "    bins = [np.logical_and(lo >= a, lo <= b) for a,b in zip(bins[0:-1], bins[1:])] # bins differ in size, i.e. can't merge masks\n",
    "    amps = np.fmax(np.array([[[np.mean(hi[k,i,:][bins[j][k,i,:]]) for k in range(lo.shape[0])] for j in range(nbin)] for i in range(lo.shape[1])]).T, np.finfo(float).eps)\n",
    "    amps = amps/np.repeat(np.expand_dims(np.sum(amps, axis=1),axis=1),nbin,axis=1) #manual broadcast\n",
    "    hs = np.sum(amps * np.log(amps), axis=1)\n",
    "    return ((np.log(nbin) + hs) / np.log(nbin), amps)"
   ]
  },
  {
   "cell_type": "code",
   "execution_count": 47,
   "metadata": {},
   "outputs": [],
   "source": [
    "def get_filtered_channel(raw,lofrq,hifrq,ch,lo_func,hi_func,n_jobs=1):\n",
    "    r = raw.get_data(ch)\n",
    "    par_func = lambda h,func: np.squeeze(func(mne.filter.filter_data(r, raw.info['sfreq'], h[0], h[1],l_trans_bandwidth=1,h_trans_bandwidth=1)))\n",
    "    hi = Parallel(n_jobs=n_jobs)(delayed(par_func)(hi,hi_func) for hi in hifrq)\n",
    "    lo = Parallel(n_jobs=n_jobs)(delayed(par_func)(lo,lo_func) for lo in lofrq)\n",
    "    return hi,lo\n",
    "\n",
    "def get_masked_metric(hi,lo,hifrq,lofrq,mask,pac_func):\n",
    "    hi = [h[mask] for h in hi]\n",
    "    lo = [l[mask] for l in lo]\n",
    "    results = Parallel(n_jobs=1)(delayed(pac_func)(l,h) for h in hi for l in lo)\n",
    "    return dict([a for a in zip([(l,h) for h in hifrq for l in lofrq],results)])\n",
    "\n",
    "def get_pac_per_channel(raw, masks, lofrq, hifrq, ch, lo_func=phase_fn, hi_func=amplitude_fn, pac_func=lambda x: x,n_jobs=1):\n",
    "    hi,lo = get_filtered_channel(raw,lofrq,hifrq,ch,lo_func,hi_func,n_jobs)\n",
    "    return [get_masked_metric(hi,lo,hifrq,lofrq,mask,pac_func) for mask in masks]\n",
    "    \n",
    "    #return {str(lofrq[i][0])+'-'+str(lofrq[i][1]): {str(hifrq[j][0])+'-'+str(hifrq[j][1]): pac_func(l, h) for j,h in enumerate(hi)} for i,l in enumerate(lo)}\n",
    "\n",
    "def get_pac(raw, mask, lofrq, hifrq, chs, lo_func=phase_fn, hi_func=amplitude_fn, pac_func=lambda x: x,n_jobs=1):\n",
    "    return {ch:get_pac_per_channel(raw,mask,lofrq,hifrq,ch,lo_func,hi_func,pac_func,n_jobs) for ch in chs}\n",
    "\n",
    "def get_pac_from_file(files, lofrq, hifrq, chs=None, condition=None, times=[(0.,.2),(.2,.4),(.4,.6),(.6,.8),(.8,1.)], lo_func=phase_fn, hi_func=amplitude_fn, pac_func=lambda x: x,n_jobs=1,decim=1):\n",
    "    raw = mne.io.read_raw_fif(files[0],preload=True)\n",
    "    raw.resample(raw.info['sfreq']/decim)\n",
    "    masks = [None]*len(files[1:])\n",
    "    for i,f in enumerate(files[1:]):\n",
    "        epochs = mne.read_epochs(f,preload=False)\n",
    "        evts = epochs.events[:,0] if condition is None else epochs[condition].events[:,0]\n",
    "        masks[i] = get_mask(raw,np.round(evts/decim),times,by_trial=True)\n",
    "    if chs is None:\n",
    "        chs = [c for c in epochs.ch_names if not 'EOG' in c]\n",
    "    pacs = get_pac(raw,masks,lofrq,hifrq,chs,pac_func=pac_tort,n_jobs=n_jobs)\n",
    "    return {f:{k:v[i] for k,v in pacs.items()} for i,f in enumerate(files[1:])}\n"
   ]
  },
  {
   "cell_type": "code",
   "execution_count": 60,
   "metadata": {},
   "outputs": [],
   "source": [
    "f_phase = [(1,3),(3,5),(5,7),(7,9),(9,11),(11,13)]\n",
    "f_amp = [(14,18),(18,22),(22,26),(26,30),(30,34),(34,38),(38,42),(42,46),(46,50),(50,54),(54,58),(58,62),(62,66),(66,70),(70,74),(74,78),(78,82),(82,86),(86,90)]\n",
    "chs = ['Fz']\n",
    "cond=None\n",
    "\n",
    "def compute_and_save_pac(files):\n",
    "    res = get_pac_from_file(files,f_phase,f_amp,chs,cond,pac_func=pac_tort,n_jobs=20,decim=4)\n",
    "    for f in res.keys():\n",
    "        data = res.get(f)\n",
    "        fname = f.replace(\"-epo.fif.gz\",\"-bytrial.pac.json\").replace(\"Epochs\",\"PAC\")\n",
    "        f = open(fname,\"wb\")\n",
    "        dump(data,f,4)\n",
    "\n",
    "datasets = [b for b in utils.get_selection(box)]\n",
    "subjects = np.unique([d.split(\".\")[0] for d in datasets])\n",
    "#filesets = [[d.replace(\"Epochs\",\"Raw\")+s+\".raw.fif.gz\"]+[d+b+\"-epo.fif.gz\" for b in datasets if s in b] for s in subjects[:10]]\n",
    "filesets = [[d+s+\".raw.fif.gz\"]+[d+b+\"-epo.fif.gz\" for b in datasets if s in b] for s in subjects]\n",
    "\n",
    "#Parallel(n_jobs=3)(delayed(compute_and_save_pac"
   ]
  },
  {
   "cell_type": "code",
   "execution_count": null,
   "metadata": {},
   "outputs": [
    {
     "name": "stdout",
     "output_type": "stream",
     "text": [
      "Opening raw data file G:/Julia/New_Datasets/RawData_new/Prob_EEGTest_032CG.raw.fif.gz...\n",
      "    Range : 0 ... 3127199 =      0.000 ...  3127.199 secs\n",
      "Ready.\n",
      "Reading 0 ... 3127199  =      0.000 ...  3127.199 secs...\n",
      "Reading G:/Julia/New_Datasets/RawData_new/Prob_EEGTest_032CG.feedback-epo.fif.gz ...\n",
      "    Found the data of interest:\n",
      "        t =   -2500.00 ...    3500.00 ms\n",
      "        0 CTF compensation matrices available\n"
     ]
    }
   ],
   "source": [
    "for files in filesets[28:]:\n",
    "    s=time()\n",
    "    compute_and_save_pac(files)\n",
    "    print(time()-s)"
   ]
  },
  {
   "cell_type": "code",
   "execution_count": 61,
   "metadata": {},
   "outputs": [
    {
     "data": {
      "text/plain": [
       "[(0, '/ProbStim_EEGTest_110CG.raw.fif.gz'),\n",
       " (1, '/Prob_EEGTest_002CG.raw.fif.gz'),\n",
       " (2, '/Prob_EEGTest_004PS.raw.fif.gz'),\n",
       " (3, '/Prob_EEGTest_005CG.raw.fif.gz'),\n",
       " (4, '/Prob_EEGTest_006CG.raw.fif.gz'),\n",
       " (5, '/Prob_EEGTest_006PS.raw.fif.gz'),\n",
       " (6, '/Prob_EEGTest_007CG.raw.fif.gz'),\n",
       " (7, '/Prob_EEGTest_007PS.raw.fif.gz'),\n",
       " (8, '/Prob_EEGTest_008CG.raw.fif.gz'),\n",
       " (9, '/Prob_EEGTest_008PS.raw.fif.gz'),\n",
       " (10, '/Prob_EEGTest_009CG.raw.fif.gz'),\n",
       " (11, '/Prob_EEGTest_010CG.raw.fif.gz'),\n",
       " (12, '/Prob_EEGTest_011CG.raw.fif.gz'),\n",
       " (13, '/Prob_EEGTest_011PS.raw.fif.gz'),\n",
       " (14, '/Prob_EEGTest_012CG.raw.fif.gz'),\n",
       " (15, '/Prob_EEGTest_016CG.raw.fif.gz'),\n",
       " (16, '/Prob_EEGTest_016PS.raw.fif.gz'),\n",
       " (17, '/Prob_EEGTest_017PS.raw.fif.gz'),\n",
       " (18, '/Prob_EEGTest_018CG.raw.fif.gz'),\n",
       " (19, '/Prob_EEGTest_018PS.raw.fif.gz'),\n",
       " (20, '/Prob_EEGTest_021CG.raw.fif.gz'),\n",
       " (21, '/Prob_EEGTest_023PS.raw.fif.gz'),\n",
       " (22, '/Prob_EEGTest_024CG.raw.fif.gz'),\n",
       " (23, '/Prob_EEGTest_026PS.raw.fif.gz'),\n",
       " (24, '/Prob_EEGTest_027CG.raw.fif.gz'),\n",
       " (25, '/Prob_EEGTest_029CG.raw.fif.gz'),\n",
       " (26, '/Prob_EEGTest_029PS.raw.fif.gz'),\n",
       " (27, '/Prob_EEGTest_031PS.raw.fif.gz'),\n",
       " (28, '/Prob_EEGTest_032CG.raw.fif.gz'),\n",
       " (29, '/Prob_EEGTest_034CG.raw.fif.gz'),\n",
       " (30, '/Prob_EEGTest_034PS.raw.fif.gz'),\n",
       " (31, '/Prob_EEGTest_035PS.raw.fif.gz'),\n",
       " (32, '/Prob_EEGTest_037CG.raw.fif.gz'),\n",
       " (33, '/Prob_EEGTest_038PS.raw.fif.gz'),\n",
       " (34, '/Prob_EEGTest_041PS.raw.fif.gz')]"
      ]
     },
     "execution_count": 61,
     "metadata": {},
     "output_type": "execute_result"
    }
   ],
   "source": [
    "[(i,fs[0][33:]) for i,fs in enumerate(filesets)]"
   ]
  },
  {
   "cell_type": "code",
   "execution_count": null,
   "metadata": {},
   "outputs": [],
   "source": []
  }
 ],
 "metadata": {
  "kernelspec": {
   "display_name": "Python 3",
   "language": "python",
   "name": "python3"
  },
  "language_info": {
   "codemirror_mode": {
    "name": "ipython",
    "version": 3
   },
   "file_extension": ".py",
   "mimetype": "text/x-python",
   "name": "python",
   "nbconvert_exporter": "python",
   "pygments_lexer": "ipython3",
   "version": "3.7.3"
  },
  "widgets": {
   "application/vnd.jupyter.widget-state+json": {
    "state": {},
    "version_major": 2,
    "version_minor": 0
   }
  }
 },
 "nbformat": 4,
 "nbformat_minor": 4
}
