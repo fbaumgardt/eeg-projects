{
 "cells": [
  {
   "cell_type": "code",
   "execution_count": 3,
   "metadata": {
    "collapsed": true,
    "pycharm": {
     "is_executing": false
    }
   },
   "outputs": [],
   "source": [
    "import numpy as np\n",
    "import scipy as sp\n",
    "import mne\n",
    "from functools import reduce\n",
    "from time import time\n",
    "from models.preprocessing import utils\n",
    "from joblib import Parallel, delayed\n",
    "from pickle import dump"
   ]
  },
  {
   "cell_type": "code",
   "execution_count": 4,
   "outputs": [
    {
     "data": {
      "text/plain": "HBox(children=(Checkbox(value=True, description='multimodal_eeg_062CG.stimulus', indent=False), Checkbox(value…",
      "application/vnd.jupyter.widget-view+json": {
       "version_major": 2,
       "version_minor": 0,
       "model_id": "22bfb01534784e0e971bb10010b8fbf4"
      }
     },
     "metadata": {},
     "output_type": "display_data"
    }
   ],
   "source": [
    "d=\"../data/reinhartlab/multimodal/cg/Epochs/\"\n",
    "ext=\"-epo.fif.gz\"\n",
    "box=utils.select_dataset(d,ext);box"
   ],
   "metadata": {
    "collapsed": false,
    "pycharm": {
     "name": "#%%\n",
     "is_executing": false
    }
   }
  },
  {
   "cell_type": "code",
   "execution_count": 17,
   "outputs": [],
   "source": [
    "def get_mask(raw, evts, times, by_trial=False):\n",
    "    T = len(raw.times)\n",
    "    mask = np.array([[np.where((np.arange(T) >= max(int(e+tmin*raw.info['sfreq']), 0)) &\n",
    "            (np.arange(T) <= min(int(e+tmax*raw.info['sfreq']), T)))[0] for tmin,tmax in times] for e in evts])\n",
    "    if not by_trial:\n",
    "        mask = mask.reshape(-1)\n",
    "    return mask\n",
    "\n",
    "\n",
    "def phase_fn(x):\n",
    "    hil = sp.signal.hilbert(x)\n",
    "    res = np.angle(hil)+np.pi\n",
    "    return res\n",
    "\n",
    "\n",
    "def amplitude_fn(x):\n",
    "    hil = sp.signal.hilbert(x)\n",
    "    res = np.abs(hil)\n",
    "    return res\n",
    "\n",
    "\n",
    "def pac_tort_epsilon(lo, hi, nbin=20):\n",
    "    bins = np.linspace(0, 2 * np.pi, nbin + 1)\n",
    "    bins = [np.logical_and(lo >= a, lo <= b) for a,b in zip(bins[0:-1], bins[1:])] # bins differ in size, i.e. can't merge masks\n",
    "    amps = np.fmax(np.array([[[np.mean(hi[k,i,:][bins[j][k,i,:]]) for k in range(lo.shape[0])] for j in range(nbin)] for i in range(lo.shape[1])]).T, np.finfo(float).eps)\n",
    "    amps = amps/np.repeat(np.expand_dims(np.sum(amps, axis=1),axis=1),nbin,axis=1) #manual broadcast\n",
    "    hs = np.sum(amps * np.log(amps), axis=1)\n",
    "    return (np.log(nbin) + hs) / np.log(nbin), amps\n",
    "\n",
    "\n",
    "def pac_tort_skip(lo, hi, nbin=20):\n",
    "    bins = np.linspace(0, 2 * np.pi, nbin + 1)\n",
    "    bins = [np.logical_and(lo >= a, lo <= b) for a,b in zip(bins[0:-1], bins[1:])] # bins differ in size, i.e. can't merge masks\n",
    "    # filter empty bins\n",
    "    bins = [b for b in bins if np.any(b)]\n",
    "    nbin = len(bins)\n",
    "    # continue as previously\n",
    "    amps = np.fmax(np.array([[[np.mean(hi[k,i,:][bins[j][k,i,:]]) for k in range(lo.shape[0])] for j in range(nbin)] for i in range(lo.shape[1])]).T, np.finfo(float).eps)\n",
    "    amps = amps/np.repeat(np.expand_dims(np.sum(amps, axis=1),axis=1),nbin,axis=1) #manual broadcast\n",
    "    hs = np.sum(amps * np.log(amps), axis=1)\n",
    "    return (np.log(nbin) + hs) / np.log(nbin), amps\n",
    "\n",
    "def pac_tort_avg(lo, hi, nbin=20):\n",
    "    bins = np.linspace(0, 2 * np.pi, nbin + 1)\n",
    "    bins = [np.logical_and(lo >= a, lo <= b) for a,b in zip(bins[0:-1], bins[1:])] # bins differ in size, i.e. can't merge masks\n",
    "    # lo, hi => trials x intervals x samples\n",
    "    # amps => trials x bins x intervals\n",
    "    # hs => trials x intervals\n",
    "    amps = np.transpose([[[np.mean(hi[k,i,:][bins[j][k,i,:]]) for k in range(lo.shape[0])] for j in range(nbin)] for i in range(lo.shape[1])],axes=(2,1,0))\n",
    "    mask = np.where(np.isnan(amps))\n",
    "    amps[mask] = np.take(np.nanmean(amps,axis=1),mask[-1])\n",
    "    \n",
    "    amps = amps/np.repeat(np.expand_dims(np.sum(amps, axis=1),axis=1),nbin,axis=1) #manual broadcas\n",
    "    hs = np.sum(amps * np.log(amps), axis=1)\n",
    "    return (np.log(nbin) + hs) / np.log(nbin), amps\n"
   ],
   "metadata": {
    "collapsed": false,
    "pycharm": {
     "name": "#%%\n",
     "is_executing": false
    }
   }
  },
  {
   "cell_type": "code",
   "execution_count": 14,
   "outputs": [],
   "source": [
    "def get_filtered_channel(raw,lofrq,hifrq,ch,lo_func,hi_func,n_jobs=1):\n",
    "    r = raw.get_data(ch)\n",
    "    par_func = lambda h,func: np.squeeze(func(mne.filter.filter_data(r, raw.info['sfreq'], h[0], h[1],l_trans_bandwidth=1,h_trans_bandwidth=1)))\n",
    "    hi = Parallel(n_jobs=n_jobs)(delayed(par_func)(hi,hi_func) for hi in hifrq)\n",
    "    lo = Parallel(n_jobs=n_jobs)(delayed(par_func)(lo,lo_func) for lo in lofrq)\n",
    "    return hi,lo\n",
    "\n",
    "def get_masked_metric(hi,lo,hifrq,lofrq,mask,pac_func):\n",
    "    hi = [h[mask] for h in hi]\n",
    "    lo = [l[mask] for l in lo]\n",
    "    results = Parallel(n_jobs=1)(delayed(pac_func)(l,h) for h in hi for l in lo)\n",
    "    return dict([a for a in zip([(l,h) for h in hifrq for l in lofrq],results)])\n",
    "\n",
    "def get_pac_per_channel(raw, masks, lofrq, hifrq, ch, lo_func=phase_fn, hi_func=amplitude_fn, pac_func=lambda x: x,n_jobs=1):\n",
    "    hi,lo = get_filtered_channel(raw,lofrq,hifrq,ch,lo_func,hi_func,n_jobs)\n",
    "    return [get_masked_metric(hi,lo,hifrq,lofrq,mask,pac_func) for mask in masks]\n",
    "    \n",
    "    #return {str(lofrq[i][0])+'-'+str(lofrq[i][1]): {str(hifrq[j][0])+'-'+str(hifrq[j][1]): pac_func(l, h) for j,h in enumerate(hi)} for i,l in enumerate(lo)}\n",
    "\n",
    "def get_pac(raw, mask, lofrq, hifrq, chs, lo_func=phase_fn, hi_func=amplitude_fn, pac_func=lambda x: x,n_jobs=1):\n",
    "    return {ch:get_pac_per_channel(raw,mask,lofrq,hifrq,ch,lo_func,hi_func,pac_func,n_jobs) for ch in chs}\n",
    "\n",
    "def get_pac_from_file(files, lofrq, hifrq, chs=None, condition=None, times=[(0.,.5),(.5,1.)], lo_func=phase_fn, hi_func=amplitude_fn, pac_func=lambda x: x,n_jobs=1,decim=1):\n",
    "    raw = mne.io.read_raw_fif(files[0],preload=True)\n",
    "    raw.resample(raw.info['sfreq']/decim)\n",
    "    masks = [None]*len(files[1:])\n",
    "    for i,f in enumerate(files[1:]):\n",
    "        epochs = mne.read_epochs(f,preload=False)\n",
    "        evts = epochs.events[:,0] if condition is None else epochs[condition].events[:,0]\n",
    "        masks[i] = get_mask(raw,np.round(evts/decim),times,by_trial=True)\n",
    "    if chs is None:\n",
    "        chs = [c for c in epochs.ch_names if not 'EOG' in c]\n",
    "    pacs = get_pac(raw,masks,lofrq,hifrq,chs,pac_func=pac_tort_avg,n_jobs=n_jobs)\n",
    "    return {f:{k:v[i] for k,v in pacs.items()} for i,f in enumerate(files[1:])}"
   ],
   "metadata": {
    "collapsed": false,
    "pycharm": {
     "name": "#%%\n",
     "is_executing": false
    }
   }
  },
  {
   "cell_type": "code",
   "execution_count": 15,
   "outputs": [],
   "source": [
    " \n",
    "f_phase = [(1,3),(3,5),(5,7),(7,9),(9,11),(11,13)]\n",
    "f_amp = [(14,18),(18,22),(22,26),(26,30),(30,34),(34,38),(38,42),(42,46),(46,50),(50,54),(54,58),(58,62),(62,66),(66,70),(70,74),(74,78),(78,82),(82,86),(86,90)]\n",
    "\n",
    "f_phase = [(1,3),(3,5),(5,7)]\n",
    "f_amp = [(22,26),(26,30)]\n",
    "\n",
    "chs = ['FCz']\n",
    "cond=None\n",
    "\n",
    "def compute_and_save_pac(files):\n",
    "    res = get_pac_from_file(files,f_phase,f_amp,chs,cond,pac_func=pac_tort_avg,n_jobs=20,decim=4)\n",
    "    for f in res.keys():\n",
    "        data = res.get(f)\n",
    "        fname = f.replace(\"-epo.fif.gz\",\"-bytrial.pac.json\").replace(\"Epochs\",\"PAC\")\n",
    "        f = open(fname,\"wb\")\n",
    "        dump(data,f,4)\n",
    "\n",
    "datasets = [b for b in utils.get_selection(box)]\n",
    "subjects = np.unique([d.split(\".\")[0] for d in datasets])\n",
    "#filesets = [[d.replace(\"Epochs\",\"Raw\")+s+\".raw.fif.gz\"]+[d+b+\"-epo.fif.gz\" for b in datasets if s in b] for s in subjects[:10]]\n",
    "filesets = [[d.replace('Epochs','Raw')+s+\".raw.fif.gz\"]+[d+b+\"-epo.fif.gz\" for b in datasets if s in b] for s in subjects]"
   ],
   "metadata": {
    "collapsed": false,
    "pycharm": {
     "name": "#%%\n",
     "is_executing": false
    }
   }
  },
  {
   "cell_type": "code",
   "execution_count": 20,
   "outputs": [
    {
     "name": "stdout",
     "text": [
      "Opening raw data file ../data/reinhartlab/multimodal/cg/Raw/MulitModal_EEG_078CG.raw.fif.gz...\n",
      "    Range : 0 ... 5749559 =      0.000 ...  5749.559 secs\n",
      "Ready.\n",
      "Reading 0 ... 5749559  =      0.000 ...  5749.559 secs...\n",
      "Reading ../data/reinhartlab/multimodal/cg/Epochs/MulitModal_EEG_078CG.stimulus-epo.fif.gz ...\n",
      "    Found the data of interest:\n",
      "        t =   -2500.00 ...    3500.00 ms\n",
      "        0 CTF compensation matrices available\n",
      "1216 matching events found\n",
      "No baseline correction applied\n",
      "Adding metadata with 9 columns\n",
      "0 projection items activated\n",
      "Reading ../data/reinhartlab/multimodal/cg/Epochs/MulitModal_EEG_078CG.feedback-epo.fif.gz ...\n",
      "    Found the data of interest:\n",
      "        t =   -2500.00 ...    3500.00 ms\n",
      "        0 CTF compensation matrices available\n",
      "1216 matching events found\n",
      "No baseline correction applied\n",
      "Adding metadata with 9 columns\n",
      "0 projection items activated\n",
      "Reading ../data/reinhartlab/multimodal/cg/Epochs/MulitModal_EEG_078CG.response-epo.fif.gz ...\n",
      "    Found the data of interest:\n",
      "        t =   -2500.00 ...    3500.00 ms\n",
      "        0 CTF compensation matrices available\n",
      "1209 matching events found\n",
      "No baseline correction applied\n",
      "Adding metadata with 9 columns\n",
      "0 projection items activated\n",
      "538.3536198139191\n",
      "Opening raw data file ../data/reinhartlab/multimodal/cg/Raw/MultiModal_EEGTest_054CG.raw.fif.gz...\n",
      "    Range : 0 ... 4661079 =      0.000 ...  4661.079 secs\n",
      "Ready.\n",
      "Reading 0 ... 4661079  =      0.000 ...  4661.079 secs...\n",
      "Reading ../data/reinhartlab/multimodal/cg/Epochs/MultiModal_EEGTest_054CG.stimulus-epo.fif.gz ...\n",
      "    Found the data of interest:\n",
      "        t =   -2500.00 ...    3500.00 ms\n",
      "        0 CTF compensation matrices available\n",
      "1216 matching events found\n",
      "No baseline correction applied\n",
      "Adding metadata with 9 columns\n",
      "0 projection items activated\n",
      "Reading ../data/reinhartlab/multimodal/cg/Epochs/MultiModal_EEGTest_054CG.feedback-epo.fif.gz ...\n",
      "    Found the data of interest:\n",
      "        t =   -2500.00 ...    3500.00 ms\n",
      "        0 CTF compensation matrices available\n",
      "1216 matching events found\n",
      "No baseline correction applied\n",
      "Adding metadata with 9 columns\n",
      "0 projection items activated\n",
      "Reading ../data/reinhartlab/multimodal/cg/Epochs/MultiModal_EEGTest_054CG.response-epo.fif.gz ...\n",
      "    Found the data of interest:\n",
      "        t =   -2500.00 ...    3500.00 ms\n",
      "        0 CTF compensation matrices available\n",
      "1211 matching events found\n",
      "No baseline correction applied\n",
      "Adding metadata with 9 columns\n",
      "0 projection items activated\n",
      "332.4775359630585\n",
      "Opening raw data file ../data/reinhartlab/multimodal/cg/Raw/multimodal_eeg_062CG.raw.fif.gz...\n",
      "    Range : 0 ... 5837719 =      0.000 ...  5837.719 secs\n",
      "Ready.\n",
      "Reading 0 ... 5837719  =      0.000 ...  5837.719 secs...\n",
      "Reading ../data/reinhartlab/multimodal/cg/Epochs/multimodal_eeg_062CG.stimulus-epo.fif.gz ...\n",
      "    Found the data of interest:\n",
      "        t =   -2500.00 ...    3500.00 ms\n",
      "        0 CTF compensation matrices available\n",
      "1246 matching events found\n",
      "No baseline correction applied\n",
      "Adding metadata with 9 columns\n",
      "0 projection items activated\n",
      "Reading ../data/reinhartlab/multimodal/cg/Epochs/multimodal_eeg_062CG.feedback-epo.fif.gz ...\n",
      "    Found the data of interest:\n",
      "        t =   -2500.00 ...    3500.00 ms\n",
      "        0 CTF compensation matrices available\n",
      "1246 matching events found\n",
      "No baseline correction applied\n",
      "Adding metadata with 9 columns\n",
      "0 projection items activated\n",
      "Reading ../data/reinhartlab/multimodal/cg/Epochs/multimodal_eeg_062CG.response-epo.fif.gz ...\n",
      "    Found the data of interest:\n",
      "        t =   -2500.00 ...    3500.00 ms\n",
      "        0 CTF compensation matrices available\n",
      "1235 matching events found\n",
      "No baseline correction applied\n",
      "Adding metadata with 9 columns\n",
      "0 projection items activated\n",
      "334.86965680122375\n"
     ],
     "output_type": "stream"
    },
    {
     "name": "stderr",
     "text": [
      "<ipython-input-14-7570820ba3dc>:29: RuntimeWarning: The events passed to the Epochs constructor are not chronologically ordered.\n",
      "  epochs = mne.read_epochs(f,preload=False)\n",
      "<ipython-input-14-7570820ba3dc>:29: RuntimeWarning: The events passed to the Epochs constructor are not chronologically ordered.\n",
      "  epochs = mne.read_epochs(f,preload=False)\n",
      "<ipython-input-14-7570820ba3dc>:29: RuntimeWarning: The events passed to the Epochs constructor are not chronologically ordered.\n",
      "  epochs = mne.read_epochs(f,preload=False)\n",
      "<ipython-input-14-7570820ba3dc>:29: RuntimeWarning: The events passed to the Epochs constructor are not chronologically ordered.\n",
      "  epochs = mne.read_epochs(f,preload=False)\n",
      "<ipython-input-14-7570820ba3dc>:29: RuntimeWarning: The events passed to the Epochs constructor are not chronologically ordered.\n",
      "  epochs = mne.read_epochs(f,preload=False)\n",
      "<ipython-input-14-7570820ba3dc>:29: RuntimeWarning: The events passed to the Epochs constructor are not chronologically ordered.\n",
      "  epochs = mne.read_epochs(f,preload=False)\n",
      "<ipython-input-14-7570820ba3dc>:29: RuntimeWarning: The events passed to the Epochs constructor are not chronologically ordered.\n",
      "  epochs = mne.read_epochs(f,preload=False)\n",
      "<ipython-input-14-7570820ba3dc>:29: RuntimeWarning: The events passed to the Epochs constructor are not chronologically ordered.\n",
      "  epochs = mne.read_epochs(f,preload=False)\n",
      "<ipython-input-14-7570820ba3dc>:29: RuntimeWarning: The events passed to the Epochs constructor are not chronologically ordered.\n",
      "  epochs = mne.read_epochs(f,preload=False)\n",
      "<ipython-input-14-7570820ba3dc>:29: RuntimeWarning: The events passed to the Epochs constructor are not chronologically ordered.\n",
      "  epochs = mne.read_epochs(f,preload=False)\n",
      "<ipython-input-14-7570820ba3dc>:29: RuntimeWarning: The events passed to the Epochs constructor are not chronologically ordered.\n",
      "  epochs = mne.read_epochs(f,preload=False)\n",
      "<ipython-input-14-7570820ba3dc>:29: RuntimeWarning: The events passed to the Epochs constructor are not chronologically ordered.\n",
      "  epochs = mne.read_epochs(f,preload=False)\n",
      "<ipython-input-14-7570820ba3dc>:29: RuntimeWarning: The events passed to the Epochs constructor are not chronologically ordered.\n",
      "  epochs = mne.read_epochs(f,preload=False)\n",
      "<ipython-input-14-7570820ba3dc>:29: RuntimeWarning: The events passed to the Epochs constructor are not chronologically ordered.\n",
      "  epochs = mne.read_epochs(f,preload=False)\n",
      "<ipython-input-14-7570820ba3dc>:29: RuntimeWarning: The events passed to the Epochs constructor are not chronologically ordered.\n",
      "  epochs = mne.read_epochs(f,preload=False)\n",
      "<ipython-input-14-7570820ba3dc>:29: RuntimeWarning: The events passed to the Epochs constructor are not chronologically ordered.\n",
      "  epochs = mne.read_epochs(f,preload=False)\n",
      "<ipython-input-14-7570820ba3dc>:29: RuntimeWarning: The events passed to the Epochs constructor are not chronologically ordered.\n",
      "  epochs = mne.read_epochs(f,preload=False)\n",
      "<ipython-input-14-7570820ba3dc>:29: RuntimeWarning: The events passed to the Epochs constructor are not chronologically ordered.\n",
      "  epochs = mne.read_epochs(f,preload=False)\n"
     ],
     "output_type": "stream"
    }
   ],
   "source": [
    "for files in filesets:\n",
    "    s=time()\n",
    "    try:\n",
    "        compute_and_save_pac(files)\n",
    "    finally:\n",
    "        print(time()-s)"
   ],
   "metadata": {
    "collapsed": false,
    "pycharm": {
     "name": "#%%\n",
     "is_executing": false
    }
   }
  }
 ],
 "metadata": {
  "kernelspec": {
   "display_name": "Python 3",
   "language": "python",
   "name": "python3"
  },
  "language_info": {
   "codemirror_mode": {
    "name": "ipython",
    "version": 2
   },
   "file_extension": ".py",
   "mimetype": "text/x-python",
   "name": "python",
   "nbconvert_exporter": "python",
   "pygments_lexer": "ipython2",
   "version": "2.7.6"
  },
  "pycharm": {
   "stem_cell": {
    "cell_type": "raw",
    "source": [],
    "metadata": {
     "collapsed": false
    }
   }
  }
 },
 "nbformat": 4,
 "nbformat_minor": 0
}